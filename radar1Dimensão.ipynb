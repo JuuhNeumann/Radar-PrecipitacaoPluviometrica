{
  "nbformat": 4,
  "nbformat_minor": 0,
  "metadata": {
    "colab": {
      "provenance": []
    },
    "kernelspec": {
      "name": "python3",
      "display_name": "Python 3"
    },
    "language_info": {
      "name": "python"
    }
  },
  "cells": [
    {
      "cell_type": "code",
      "execution_count": null,
      "metadata": {
        "colab": {
          "base_uri": "https://localhost:8080/"
        },
        "id": "lepKBfwUrhyA",
        "outputId": "4106d131-2557-4529-de74-5001ed5b0ee7"
      },
      "outputs": [
        {
          "output_type": "stream",
          "name": "stdout",
          "text": [
            "Mounted at /content/drive\n"
          ]
        }
      ],
      "source": [
        "from google.colab import drive\n",
        "drive.mount('/content/drive')"
      ]
    },
    {
      "cell_type": "code",
      "source": [
        "import numpy as np\n",
        "import h5py\n",
        "import pandas as pd\n",
        "from sklearn.model_selection import train_test_split\n",
        "import datetime\n",
        "import folium\n",
        "from folium import plugins"
      ],
      "metadata": {
        "id": "Il-s1T_1rlHr"
      },
      "execution_count": null,
      "outputs": []
    },
    {
      "cell_type": "code",
      "source": [
        "!pip install haversine\n",
        "from haversine import haversine"
      ],
      "metadata": {
        "colab": {
          "base_uri": "https://localhost:8080/"
        },
        "id": "p7eCF7oLvflI",
        "outputId": "87a011a3-ae57-4b4b-a1d5-e6397c1e16bf"
      },
      "execution_count": null,
      "outputs": [
        {
          "output_type": "stream",
          "name": "stdout",
          "text": [
            "Looking in indexes: https://pypi.org/simple, https://us-python.pkg.dev/colab-wheels/public/simple/\n",
            "Collecting haversine\n",
            "  Downloading haversine-2.7.0-py2.py3-none-any.whl (6.9 kB)\n",
            "Installing collected packages: haversine\n",
            "Successfully installed haversine-2.7.0\n"
          ]
        }
      ]
    },
    {
      "cell_type": "code",
      "source": [
        "mapa = folium.Map(\n",
        "    location = [-22.123325, -42.710144],\n",
        "    zoom_start=8\n",
        ")"
      ],
      "metadata": {
        "id": "Gdz76p20vynW"
      },
      "execution_count": null,
      "outputs": []
    },
    {
      "cell_type": "code",
      "source": [
        "#ponta inferior esquerda: -23.394702, -44.918488\n",
        "folium.Marker(\n",
        "    location=[-23.394702, -44.918488],\n",
        "    popup='<i>-23.394702, -44.918488</i>',\n",
        "    tooltip='Clique aqui',\n",
        "    icon=folium.Icon(color='red')\n",
        ").add_to(mapa)"
      ],
      "metadata": {
        "colab": {
          "base_uri": "https://localhost:8080/"
        },
        "id": "lHk_v-Mzv5uJ",
        "outputId": "b49f025b-5219-404e-fd59-d2dd33e2abfd"
      },
      "execution_count": null,
      "outputs": [
        {
          "output_type": "execute_result",
          "data": {
            "text/plain": [
              "<folium.map.Marker at 0x7f52bcad3640>"
            ]
          },
          "metadata": {},
          "execution_count": 5
        }
      ]
    },
    {
      "cell_type": "code",
      "source": [
        "#ponta superior direita: -20.737624, -40.902986\n",
        "folium.Marker(\n",
        "    location=[-20.737624, -40.902986],\n",
        "    popup='<i>-20.737624, -40.902986</i>',\n",
        "    tooltip='Clique aqui',\n",
        "    icon=folium.Icon(color='red')\n",
        ").add_to(mapa)"
      ],
      "metadata": {
        "colab": {
          "base_uri": "https://localhost:8080/"
        },
        "id": "eu8tB_orwGrz",
        "outputId": "42b32792-1530-45ae-922a-137bca294b34"
      },
      "execution_count": null,
      "outputs": [
        {
          "output_type": "execute_result",
          "data": {
            "text/plain": [
              "<folium.map.Marker at 0x7f52bcab45b0>"
            ]
          },
          "metadata": {},
          "execution_count": 6
        }
      ]
    },
    {
      "cell_type": "code",
      "source": [
        "#ponta superior esquerda: -20.758172, -44.912995\n",
        "folium.Marker(\n",
        "    location=[-20.758172, -44.912995],\n",
        "    popup='<i>-20.758172, -44.912995</i>',\n",
        "    tooltip='Clique aqui',\n",
        "    icon=folium.Icon(color='red')\n",
        ").add_to(mapa)"
      ],
      "metadata": {
        "colab": {
          "base_uri": "https://localhost:8080/"
        },
        "id": "hDjsr6dXwMNc",
        "outputId": "b5544bf0-725c-4646-c34e-ee1d39fe3e8d"
      },
      "execution_count": null,
      "outputs": [
        {
          "output_type": "execute_result",
          "data": {
            "text/plain": [
              "<folium.map.Marker at 0x7f52d15273a0>"
            ]
          },
          "metadata": {},
          "execution_count": 7
        }
      ]
    },
    {
      "cell_type": "code",
      "source": [
        "#ponta inferior direita: -23.293832, -40.875520\n",
        "folium.Marker(\n",
        "    location=[-23.293832, -40.875520],\n",
        "    popup='<i>-23.293832, -40.875520</i>',\n",
        "    tooltip='Clique aqui',\n",
        "    icon=folium.Icon(color='red')\n",
        ").add_to(mapa)"
      ],
      "metadata": {
        "colab": {
          "base_uri": "https://localhost:8080/"
        },
        "id": "6H7pPDyawThr",
        "outputId": "defa554b-e5c3-43b2-bc95-15e3d43098be"
      },
      "execution_count": null,
      "outputs": [
        {
          "output_type": "execute_result",
          "data": {
            "text/plain": [
              "<folium.map.Marker at 0x7f52bcaadcd0>"
            ]
          },
          "metadata": {},
          "execution_count": 8
        }
      ]
    },
    {
      "cell_type": "code",
      "source": [
        "#localização radar -22.371427, -41.786991\n",
        "folium.Marker(\n",
        "    location=[-22.371427, -41.786991],\n",
        "    popup='<i>-22.371427, -41.786991</i>',\n",
        "    tooltip='Clique aqui',\n",
        "    icon=folium.Icon(color='blue')\n",
        ").add_to(mapa)"
      ],
      "metadata": {
        "colab": {
          "base_uri": "https://localhost:8080/"
        },
        "id": "PnudZR2Zwj_Y",
        "outputId": "1b0aa66b-1150-4453-fb5c-e6a77ea424ae"
      },
      "execution_count": null,
      "outputs": [
        {
          "output_type": "execute_result",
          "data": {
            "text/plain": [
              "<folium.map.Marker at 0x7f52bcb09220>"
            ]
          },
          "metadata": {},
          "execution_count": 9
        }
      ]
    },
    {
      "cell_type": "code",
      "source": [
        "#localização ponto inicial -22.747445, -43.102014\n",
        "folium.Marker(\n",
        "    location=[-22.747445, -43.102014],\n",
        "    popup='<i>-22.747445, -43.102014</i>',\n",
        "    tooltip='Clique aqui',\n",
        "    icon=folium.Icon(color='blue')\n",
        ").add_to(mapa)"
      ],
      "metadata": {
        "colab": {
          "base_uri": "https://localhost:8080/"
        },
        "id": "5JNJE-IFoRGn",
        "outputId": "6c143012-e78a-46b2-c457-4bf70a1a3cf0"
      },
      "execution_count": null,
      "outputs": [
        {
          "output_type": "execute_result",
          "data": {
            "text/plain": [
              "<folium.map.Marker at 0x7f52bcad34c0>"
            ]
          },
          "metadata": {},
          "execution_count": 10
        }
      ]
    },
    {
      "cell_type": "code",
      "source": [
        "#localização ponto final -23.080871, -43.808421\n",
        "folium.Marker(\n",
        "    location=[-23.080871, -43.808421],\n",
        "    popup='<i>-23.080871, -43.808421</i>',\n",
        "    tooltip='Clique aqui',\n",
        "    icon=folium.Icon(color='blue')\n",
        ").add_to(mapa)"
      ],
      "metadata": {
        "colab": {
          "base_uri": "https://localhost:8080/"
        },
        "id": "fqPTokLboiES",
        "outputId": "d2cbef86-a4d3-4ac3-8c91-681224db9d28"
      },
      "execution_count": null,
      "outputs": [
        {
          "output_type": "execute_result",
          "data": {
            "text/plain": [
              "<folium.map.Marker at 0x7f52bcad3790>"
            ]
          },
          "metadata": {},
          "execution_count": 11
        }
      ]
    },
    {
      "cell_type": "code",
      "source": [
        "mapa"
      ],
      "metadata": {
        "colab": {
          "base_uri": "https://localhost:8080/",
          "height": 823
        },
        "id": "xWZzPOwAwf_F",
        "outputId": "02334f77-8daa-4455-b14c-8bd4adeb8feb"
      },
      "execution_count": null,
      "outputs": [
        {
          "output_type": "execute_result",
          "data": {
            "text/plain": [
              "<folium.folium.Map at 0x7f52d1527370>"
            ],
            "text/html": [
              "<div style=\"width:100%;\"><div style=\"position:relative;width:100%;height:0;padding-bottom:60%;\"><span style=\"color:#565656\">Make this Notebook Trusted to load map: File -> Trust Notebook</span><iframe srcdoc=\"&lt;!DOCTYPE html&gt;\n",
              "&lt;html&gt;\n",
              "&lt;head&gt;\n",
              "    \n",
              "    &lt;meta http-equiv=&quot;content-type&quot; content=&quot;text/html; charset=UTF-8&quot; /&gt;\n",
              "    \n",
              "        &lt;script&gt;\n",
              "            L_NO_TOUCH = false;\n",
              "            L_DISABLE_3D = false;\n",
              "        &lt;/script&gt;\n",
              "    \n",
              "    &lt;style&gt;html, body {width: 100%;height: 100%;margin: 0;padding: 0;}&lt;/style&gt;\n",
              "    &lt;style&gt;#map {position:absolute;top:0;bottom:0;right:0;left:0;}&lt;/style&gt;\n",
              "    &lt;script src=&quot;https://cdn.jsdelivr.net/npm/leaflet@1.6.0/dist/leaflet.js&quot;&gt;&lt;/script&gt;\n",
              "    &lt;script src=&quot;https://code.jquery.com/jquery-1.12.4.min.js&quot;&gt;&lt;/script&gt;\n",
              "    &lt;script src=&quot;https://maxcdn.bootstrapcdn.com/bootstrap/3.2.0/js/bootstrap.min.js&quot;&gt;&lt;/script&gt;\n",
              "    &lt;script src=&quot;https://cdnjs.cloudflare.com/ajax/libs/Leaflet.awesome-markers/2.0.2/leaflet.awesome-markers.js&quot;&gt;&lt;/script&gt;\n",
              "    &lt;link rel=&quot;stylesheet&quot; href=&quot;https://cdn.jsdelivr.net/npm/leaflet@1.6.0/dist/leaflet.css&quot;/&gt;\n",
              "    &lt;link rel=&quot;stylesheet&quot; href=&quot;https://maxcdn.bootstrapcdn.com/bootstrap/3.2.0/css/bootstrap.min.css&quot;/&gt;\n",
              "    &lt;link rel=&quot;stylesheet&quot; href=&quot;https://maxcdn.bootstrapcdn.com/bootstrap/3.2.0/css/bootstrap-theme.min.css&quot;/&gt;\n",
              "    &lt;link rel=&quot;stylesheet&quot; href=&quot;https://maxcdn.bootstrapcdn.com/font-awesome/4.6.3/css/font-awesome.min.css&quot;/&gt;\n",
              "    &lt;link rel=&quot;stylesheet&quot; href=&quot;https://cdnjs.cloudflare.com/ajax/libs/Leaflet.awesome-markers/2.0.2/leaflet.awesome-markers.css&quot;/&gt;\n",
              "    &lt;link rel=&quot;stylesheet&quot; href=&quot;https://cdn.jsdelivr.net/gh/python-visualization/folium/folium/templates/leaflet.awesome.rotate.min.css&quot;/&gt;\n",
              "    \n",
              "            &lt;meta name=&quot;viewport&quot; content=&quot;width=device-width,\n",
              "                initial-scale=1.0, maximum-scale=1.0, user-scalable=no&quot; /&gt;\n",
              "            &lt;style&gt;\n",
              "                #map_6f4e225593600824435dd965108b1ce2 {\n",
              "                    position: relative;\n",
              "                    width: 100.0%;\n",
              "                    height: 100.0%;\n",
              "                    left: 0.0%;\n",
              "                    top: 0.0%;\n",
              "                }\n",
              "            &lt;/style&gt;\n",
              "        \n",
              "&lt;/head&gt;\n",
              "&lt;body&gt;\n",
              "    \n",
              "    \n",
              "            &lt;div class=&quot;folium-map&quot; id=&quot;map_6f4e225593600824435dd965108b1ce2&quot; &gt;&lt;/div&gt;\n",
              "        \n",
              "&lt;/body&gt;\n",
              "&lt;script&gt;\n",
              "    \n",
              "    \n",
              "            var map_6f4e225593600824435dd965108b1ce2 = L.map(\n",
              "                &quot;map_6f4e225593600824435dd965108b1ce2&quot;,\n",
              "                {\n",
              "                    center: [-22.123325, -42.710144],\n",
              "                    crs: L.CRS.EPSG3857,\n",
              "                    zoom: 8,\n",
              "                    zoomControl: true,\n",
              "                    preferCanvas: false,\n",
              "                }\n",
              "            );\n",
              "\n",
              "            \n",
              "\n",
              "        \n",
              "    \n",
              "            var tile_layer_f1950c6eb1b70631d0af4efdcfdc817d = L.tileLayer(\n",
              "                &quot;https://{s}.tile.openstreetmap.org/{z}/{x}/{y}.png&quot;,\n",
              "                {&quot;attribution&quot;: &quot;Data by \\u0026copy; \\u003ca href=\\&quot;http://openstreetmap.org\\&quot;\\u003eOpenStreetMap\\u003c/a\\u003e, under \\u003ca href=\\&quot;http://www.openstreetmap.org/copyright\\&quot;\\u003eODbL\\u003c/a\\u003e.&quot;, &quot;detectRetina&quot;: false, &quot;maxNativeZoom&quot;: 18, &quot;maxZoom&quot;: 18, &quot;minZoom&quot;: 0, &quot;noWrap&quot;: false, &quot;opacity&quot;: 1, &quot;subdomains&quot;: &quot;abc&quot;, &quot;tms&quot;: false}\n",
              "            ).addTo(map_6f4e225593600824435dd965108b1ce2);\n",
              "        \n",
              "    \n",
              "            var marker_095c6cab0146c638918768428bbfe7ce = L.marker(\n",
              "                [-23.394702, -44.918488],\n",
              "                {}\n",
              "            ).addTo(map_6f4e225593600824435dd965108b1ce2);\n",
              "        \n",
              "    \n",
              "            var icon_70a777b8804c110b432111be69c05915 = L.AwesomeMarkers.icon(\n",
              "                {&quot;extraClasses&quot;: &quot;fa-rotate-0&quot;, &quot;icon&quot;: &quot;info-sign&quot;, &quot;iconColor&quot;: &quot;white&quot;, &quot;markerColor&quot;: &quot;red&quot;, &quot;prefix&quot;: &quot;glyphicon&quot;}\n",
              "            );\n",
              "            marker_095c6cab0146c638918768428bbfe7ce.setIcon(icon_70a777b8804c110b432111be69c05915);\n",
              "        \n",
              "    \n",
              "        var popup_df3f2a8124006a206a6b82ded4fa4772 = L.popup({&quot;maxWidth&quot;: &quot;100%&quot;});\n",
              "\n",
              "        \n",
              "            var html_4821d600822f89832ee721925c319bf8 = $(`&lt;div id=&quot;html_4821d600822f89832ee721925c319bf8&quot; style=&quot;width: 100.0%; height: 100.0%;&quot;&gt;&lt;i&gt;-23.394702, -44.918488&lt;/i&gt;&lt;/div&gt;`)[0];\n",
              "            popup_df3f2a8124006a206a6b82ded4fa4772.setContent(html_4821d600822f89832ee721925c319bf8);\n",
              "        \n",
              "\n",
              "        marker_095c6cab0146c638918768428bbfe7ce.bindPopup(popup_df3f2a8124006a206a6b82ded4fa4772)\n",
              "        ;\n",
              "\n",
              "        \n",
              "    \n",
              "    \n",
              "            marker_095c6cab0146c638918768428bbfe7ce.bindTooltip(\n",
              "                `&lt;div&gt;\n",
              "                     Clique aqui\n",
              "                 &lt;/div&gt;`,\n",
              "                {&quot;sticky&quot;: true}\n",
              "            );\n",
              "        \n",
              "    \n",
              "            var marker_e7d03850b298ba299d663221e02f36bb = L.marker(\n",
              "                [-20.737624, -40.902986],\n",
              "                {}\n",
              "            ).addTo(map_6f4e225593600824435dd965108b1ce2);\n",
              "        \n",
              "    \n",
              "            var icon_ec51ad010d15d12586c19c2e3fdfae62 = L.AwesomeMarkers.icon(\n",
              "                {&quot;extraClasses&quot;: &quot;fa-rotate-0&quot;, &quot;icon&quot;: &quot;info-sign&quot;, &quot;iconColor&quot;: &quot;white&quot;, &quot;markerColor&quot;: &quot;red&quot;, &quot;prefix&quot;: &quot;glyphicon&quot;}\n",
              "            );\n",
              "            marker_e7d03850b298ba299d663221e02f36bb.setIcon(icon_ec51ad010d15d12586c19c2e3fdfae62);\n",
              "        \n",
              "    \n",
              "        var popup_a1b36d7ec2e57eae71b132df85600cbb = L.popup({&quot;maxWidth&quot;: &quot;100%&quot;});\n",
              "\n",
              "        \n",
              "            var html_a00c1126ace601fc6eee22d571af8d0a = $(`&lt;div id=&quot;html_a00c1126ace601fc6eee22d571af8d0a&quot; style=&quot;width: 100.0%; height: 100.0%;&quot;&gt;&lt;i&gt;-20.737624, -40.902986&lt;/i&gt;&lt;/div&gt;`)[0];\n",
              "            popup_a1b36d7ec2e57eae71b132df85600cbb.setContent(html_a00c1126ace601fc6eee22d571af8d0a);\n",
              "        \n",
              "\n",
              "        marker_e7d03850b298ba299d663221e02f36bb.bindPopup(popup_a1b36d7ec2e57eae71b132df85600cbb)\n",
              "        ;\n",
              "\n",
              "        \n",
              "    \n",
              "    \n",
              "            marker_e7d03850b298ba299d663221e02f36bb.bindTooltip(\n",
              "                `&lt;div&gt;\n",
              "                     Clique aqui\n",
              "                 &lt;/div&gt;`,\n",
              "                {&quot;sticky&quot;: true}\n",
              "            );\n",
              "        \n",
              "    \n",
              "            var marker_a5accca8057dac96f59a6e4a95107ca8 = L.marker(\n",
              "                [-20.758172, -44.912995],\n",
              "                {}\n",
              "            ).addTo(map_6f4e225593600824435dd965108b1ce2);\n",
              "        \n",
              "    \n",
              "            var icon_255754d345feba553cf1ed87b7b9ed70 = L.AwesomeMarkers.icon(\n",
              "                {&quot;extraClasses&quot;: &quot;fa-rotate-0&quot;, &quot;icon&quot;: &quot;info-sign&quot;, &quot;iconColor&quot;: &quot;white&quot;, &quot;markerColor&quot;: &quot;red&quot;, &quot;prefix&quot;: &quot;glyphicon&quot;}\n",
              "            );\n",
              "            marker_a5accca8057dac96f59a6e4a95107ca8.setIcon(icon_255754d345feba553cf1ed87b7b9ed70);\n",
              "        \n",
              "    \n",
              "        var popup_8d3b9a367433554db6cdcf777b62bbbe = L.popup({&quot;maxWidth&quot;: &quot;100%&quot;});\n",
              "\n",
              "        \n",
              "            var html_25a32e162dbc6c3c49a23d85fd3386f4 = $(`&lt;div id=&quot;html_25a32e162dbc6c3c49a23d85fd3386f4&quot; style=&quot;width: 100.0%; height: 100.0%;&quot;&gt;&lt;i&gt;-20.758172, -44.912995&lt;/i&gt;&lt;/div&gt;`)[0];\n",
              "            popup_8d3b9a367433554db6cdcf777b62bbbe.setContent(html_25a32e162dbc6c3c49a23d85fd3386f4);\n",
              "        \n",
              "\n",
              "        marker_a5accca8057dac96f59a6e4a95107ca8.bindPopup(popup_8d3b9a367433554db6cdcf777b62bbbe)\n",
              "        ;\n",
              "\n",
              "        \n",
              "    \n",
              "    \n",
              "            marker_a5accca8057dac96f59a6e4a95107ca8.bindTooltip(\n",
              "                `&lt;div&gt;\n",
              "                     Clique aqui\n",
              "                 &lt;/div&gt;`,\n",
              "                {&quot;sticky&quot;: true}\n",
              "            );\n",
              "        \n",
              "    \n",
              "            var marker_a5a75e477f02eb09d00cef5a89bb1094 = L.marker(\n",
              "                [-23.293832, -40.87552],\n",
              "                {}\n",
              "            ).addTo(map_6f4e225593600824435dd965108b1ce2);\n",
              "        \n",
              "    \n",
              "            var icon_5e070494a0f91b089252d5f1beb10006 = L.AwesomeMarkers.icon(\n",
              "                {&quot;extraClasses&quot;: &quot;fa-rotate-0&quot;, &quot;icon&quot;: &quot;info-sign&quot;, &quot;iconColor&quot;: &quot;white&quot;, &quot;markerColor&quot;: &quot;red&quot;, &quot;prefix&quot;: &quot;glyphicon&quot;}\n",
              "            );\n",
              "            marker_a5a75e477f02eb09d00cef5a89bb1094.setIcon(icon_5e070494a0f91b089252d5f1beb10006);\n",
              "        \n",
              "    \n",
              "        var popup_64c9a7af20281d78ba262e9168c22e62 = L.popup({&quot;maxWidth&quot;: &quot;100%&quot;});\n",
              "\n",
              "        \n",
              "            var html_eac6c508e92bb72a6b06cdb0e733a880 = $(`&lt;div id=&quot;html_eac6c508e92bb72a6b06cdb0e733a880&quot; style=&quot;width: 100.0%; height: 100.0%;&quot;&gt;&lt;i&gt;-23.293832, -40.875520&lt;/i&gt;&lt;/div&gt;`)[0];\n",
              "            popup_64c9a7af20281d78ba262e9168c22e62.setContent(html_eac6c508e92bb72a6b06cdb0e733a880);\n",
              "        \n",
              "\n",
              "        marker_a5a75e477f02eb09d00cef5a89bb1094.bindPopup(popup_64c9a7af20281d78ba262e9168c22e62)\n",
              "        ;\n",
              "\n",
              "        \n",
              "    \n",
              "    \n",
              "            marker_a5a75e477f02eb09d00cef5a89bb1094.bindTooltip(\n",
              "                `&lt;div&gt;\n",
              "                     Clique aqui\n",
              "                 &lt;/div&gt;`,\n",
              "                {&quot;sticky&quot;: true}\n",
              "            );\n",
              "        \n",
              "    \n",
              "            var marker_e9382231694848b6b0af1bece621d090 = L.marker(\n",
              "                [-22.371427, -41.786991],\n",
              "                {}\n",
              "            ).addTo(map_6f4e225593600824435dd965108b1ce2);\n",
              "        \n",
              "    \n",
              "            var icon_09491fd7bae0a02b3d9d869e769da06a = L.AwesomeMarkers.icon(\n",
              "                {&quot;extraClasses&quot;: &quot;fa-rotate-0&quot;, &quot;icon&quot;: &quot;info-sign&quot;, &quot;iconColor&quot;: &quot;white&quot;, &quot;markerColor&quot;: &quot;blue&quot;, &quot;prefix&quot;: &quot;glyphicon&quot;}\n",
              "            );\n",
              "            marker_e9382231694848b6b0af1bece621d090.setIcon(icon_09491fd7bae0a02b3d9d869e769da06a);\n",
              "        \n",
              "    \n",
              "        var popup_919e591fd845378e9a45d4190965aff9 = L.popup({&quot;maxWidth&quot;: &quot;100%&quot;});\n",
              "\n",
              "        \n",
              "            var html_71381cc44c68efb2be8f4c90f8216743 = $(`&lt;div id=&quot;html_71381cc44c68efb2be8f4c90f8216743&quot; style=&quot;width: 100.0%; height: 100.0%;&quot;&gt;&lt;i&gt;-22.371427, -41.786991&lt;/i&gt;&lt;/div&gt;`)[0];\n",
              "            popup_919e591fd845378e9a45d4190965aff9.setContent(html_71381cc44c68efb2be8f4c90f8216743);\n",
              "        \n",
              "\n",
              "        marker_e9382231694848b6b0af1bece621d090.bindPopup(popup_919e591fd845378e9a45d4190965aff9)\n",
              "        ;\n",
              "\n",
              "        \n",
              "    \n",
              "    \n",
              "            marker_e9382231694848b6b0af1bece621d090.bindTooltip(\n",
              "                `&lt;div&gt;\n",
              "                     Clique aqui\n",
              "                 &lt;/div&gt;`,\n",
              "                {&quot;sticky&quot;: true}\n",
              "            );\n",
              "        \n",
              "    \n",
              "            var marker_c9bf94d81d62274f58f454797ff79f90 = L.marker(\n",
              "                [-22.747445, -43.102014],\n",
              "                {}\n",
              "            ).addTo(map_6f4e225593600824435dd965108b1ce2);\n",
              "        \n",
              "    \n",
              "            var icon_a0968d5187d770eef6dc562361ff4a6c = L.AwesomeMarkers.icon(\n",
              "                {&quot;extraClasses&quot;: &quot;fa-rotate-0&quot;, &quot;icon&quot;: &quot;info-sign&quot;, &quot;iconColor&quot;: &quot;white&quot;, &quot;markerColor&quot;: &quot;blue&quot;, &quot;prefix&quot;: &quot;glyphicon&quot;}\n",
              "            );\n",
              "            marker_c9bf94d81d62274f58f454797ff79f90.setIcon(icon_a0968d5187d770eef6dc562361ff4a6c);\n",
              "        \n",
              "    \n",
              "        var popup_3183ce46900876cc34ff4e5dd23da30a = L.popup({&quot;maxWidth&quot;: &quot;100%&quot;});\n",
              "\n",
              "        \n",
              "            var html_42787afee8eef66dd6629a990fbbf29f = $(`&lt;div id=&quot;html_42787afee8eef66dd6629a990fbbf29f&quot; style=&quot;width: 100.0%; height: 100.0%;&quot;&gt;&lt;i&gt;-22.747445, -43.102014&lt;/i&gt;&lt;/div&gt;`)[0];\n",
              "            popup_3183ce46900876cc34ff4e5dd23da30a.setContent(html_42787afee8eef66dd6629a990fbbf29f);\n",
              "        \n",
              "\n",
              "        marker_c9bf94d81d62274f58f454797ff79f90.bindPopup(popup_3183ce46900876cc34ff4e5dd23da30a)\n",
              "        ;\n",
              "\n",
              "        \n",
              "    \n",
              "    \n",
              "            marker_c9bf94d81d62274f58f454797ff79f90.bindTooltip(\n",
              "                `&lt;div&gt;\n",
              "                     Clique aqui\n",
              "                 &lt;/div&gt;`,\n",
              "                {&quot;sticky&quot;: true}\n",
              "            );\n",
              "        \n",
              "    \n",
              "            var marker_703aba1709c30c439f9f89a3ff7b1810 = L.marker(\n",
              "                [-23.080871, -43.808421],\n",
              "                {}\n",
              "            ).addTo(map_6f4e225593600824435dd965108b1ce2);\n",
              "        \n",
              "    \n",
              "            var icon_73af9b8a76c0030432ce442c5b1e9795 = L.AwesomeMarkers.icon(\n",
              "                {&quot;extraClasses&quot;: &quot;fa-rotate-0&quot;, &quot;icon&quot;: &quot;info-sign&quot;, &quot;iconColor&quot;: &quot;white&quot;, &quot;markerColor&quot;: &quot;blue&quot;, &quot;prefix&quot;: &quot;glyphicon&quot;}\n",
              "            );\n",
              "            marker_703aba1709c30c439f9f89a3ff7b1810.setIcon(icon_73af9b8a76c0030432ce442c5b1e9795);\n",
              "        \n",
              "    \n",
              "        var popup_26f7a854e628a5f29715dd81f9d922d7 = L.popup({&quot;maxWidth&quot;: &quot;100%&quot;});\n",
              "\n",
              "        \n",
              "            var html_736f3f56eae7a59656088c05e1cf6df2 = $(`&lt;div id=&quot;html_736f3f56eae7a59656088c05e1cf6df2&quot; style=&quot;width: 100.0%; height: 100.0%;&quot;&gt;&lt;i&gt;-23.080871, -43.808421&lt;/i&gt;&lt;/div&gt;`)[0];\n",
              "            popup_26f7a854e628a5f29715dd81f9d922d7.setContent(html_736f3f56eae7a59656088c05e1cf6df2);\n",
              "        \n",
              "\n",
              "        marker_703aba1709c30c439f9f89a3ff7b1810.bindPopup(popup_26f7a854e628a5f29715dd81f9d922d7)\n",
              "        ;\n",
              "\n",
              "        \n",
              "    \n",
              "    \n",
              "            marker_703aba1709c30c439f9f89a3ff7b1810.bindTooltip(\n",
              "                `&lt;div&gt;\n",
              "                     Clique aqui\n",
              "                 &lt;/div&gt;`,\n",
              "                {&quot;sticky&quot;: true}\n",
              "            );\n",
              "        \n",
              "&lt;/script&gt;\n",
              "&lt;/html&gt;\" style=\"position:absolute;width:100%;height:100%;left:0;top:0;border:none !important;\" allowfullscreen webkitallowfullscreen mozallowfullscreen></iframe></div></div>"
            ]
          },
          "metadata": {},
          "execution_count": 12
        }
      ]
    },
    {
      "cell_type": "code",
      "source": [
        "esq_sup = (-20.758172, -44.912995)\n",
        "esq_inf = (-23.394702, -44.918488)\n",
        "dir_sup = (-20.737624, -40.902986)\n",
        "dir_inf = (-23.293832, -40.875520)\n",
        "ponto_inicial = (-22.747445, -43.102014)\n",
        "ponto_final = (-23.080871, -43.808421)\n",
        "radar = (-22.371427, -41.786991)"
      ],
      "metadata": {
        "id": "3CCcJZ5V2auj"
      },
      "execution_count": null,
      "outputs": []
    },
    {
      "cell_type": "code",
      "source": [
        "distancia_esquerda_cima = haversine(esq_sup, radar) \n",
        "distancia_esquerda_cima #em km"
      ],
      "metadata": {
        "colab": {
          "base_uri": "https://localhost:8080/"
        },
        "id": "fYdIGXO12a1u",
        "outputId": "eee8312b-c5eb-48b5-dbed-ad3616b6e1d6"
      },
      "execution_count": null,
      "outputs": [
        {
          "output_type": "execute_result",
          "data": {
            "text/plain": [
              "369.6839342126499"
            ]
          },
          "metadata": {},
          "execution_count": 14
        }
      ]
    },
    {
      "cell_type": "code",
      "source": [
        "distancia_esquerda_baixo = haversine(esq_inf, radar)\n",
        "distancia_esquerda_baixo #em km"
      ],
      "metadata": {
        "colab": {
          "base_uri": "https://localhost:8080/"
        },
        "id": "w8gqRzzf3Q2d",
        "outputId": "b9c170e0-3f4a-48c5-e0f1-a77b0b2afb59"
      },
      "execution_count": null,
      "outputs": [
        {
          "output_type": "execute_result",
          "data": {
            "text/plain": [
              "340.37227823276606"
            ]
          },
          "metadata": {},
          "execution_count": 15
        }
      ]
    },
    {
      "cell_type": "code",
      "source": [
        "distancia_direita_baixo = haversine(dir_inf, radar)\n",
        "distancia_direita_baixo #em km"
      ],
      "metadata": {
        "colab": {
          "base_uri": "https://localhost:8080/"
        },
        "id": "xx-bUnWU3VNn",
        "outputId": "73d22585-446a-4d0d-f1df-81c09ba1dc40"
      },
      "execution_count": null,
      "outputs": [
        {
          "output_type": "execute_result",
          "data": {
            "text/plain": [
              "138.72627111557208"
            ]
          },
          "metadata": {},
          "execution_count": 16
        }
      ]
    },
    {
      "cell_type": "code",
      "source": [
        "distancia_direita_cima = haversine(dir_sup, radar)\n",
        "distancia_direita_cima #em km"
      ],
      "metadata": {
        "colab": {
          "base_uri": "https://localhost:8080/"
        },
        "id": "VfpO9ROt3Zbs",
        "outputId": "d35cc32b-8477-44c4-bc0e-8d35e26a396f"
      },
      "execution_count": null,
      "outputs": [
        {
          "output_type": "execute_result",
          "data": {
            "text/plain": [
              "203.3755129594263"
            ]
          },
          "metadata": {},
          "execution_count": 17
        }
      ]
    },
    {
      "cell_type": "code",
      "source": [
        "distancia_ponto_inicial = haversine(ponto_inicial, radar)\n",
        "distancia_ponto_inicial #em km"
      ],
      "metadata": {
        "colab": {
          "base_uri": "https://localhost:8080/"
        },
        "id": "PuuWD1r3pXg0",
        "outputId": "fabc1d74-cc6a-48d8-e03f-82d8c9eb2d27"
      },
      "execution_count": null,
      "outputs": [
        {
          "output_type": "execute_result",
          "data": {
            "text/plain": [
              "141.35950645115452"
            ]
          },
          "metadata": {},
          "execution_count": 18
        }
      ]
    },
    {
      "cell_type": "code",
      "source": [
        "distancia_ponto_final = haversine(ponto_final, radar)\n",
        "distancia_ponto_final #em km"
      ],
      "metadata": {
        "colab": {
          "base_uri": "https://localhost:8080/"
        },
        "id": "6s2vZoLjpbRH",
        "outputId": "17a3c3f6-7cab-4022-f3f2-3547cb4260ed"
      },
      "execution_count": null,
      "outputs": [
        {
          "output_type": "execute_result",
          "data": {
            "text/plain": [
              "221.8198873962388"
            ]
          },
          "metadata": {},
          "execution_count": 19
        }
      ]
    },
    {
      "cell_type": "code",
      "source": [
        "folium.Circle([-22.371427, -41.786991],\n",
        "                    radius=250000.00\n",
        "                    ).add_to(mapa)"
      ],
      "metadata": {
        "colab": {
          "base_uri": "https://localhost:8080/"
        },
        "id": "u7h7T-Sz53Mb",
        "outputId": "80038491-ed3d-4de5-8bad-ea4bee3f7f0e"
      },
      "execution_count": null,
      "outputs": [
        {
          "output_type": "execute_result",
          "data": {
            "text/plain": [
              "<folium.vector_layers.Circle at 0x7f52bca607f0>"
            ]
          },
          "metadata": {},
          "execution_count": 20
        }
      ]
    },
    {
      "cell_type": "code",
      "source": [
        "folium.Circle([-22.371427, -41.786991],\n",
        "                    radius=141359.50645115451392\n",
        "                    ).add_to(mapa)"
      ],
      "metadata": {
        "colab": {
          "base_uri": "https://localhost:8080/"
        },
        "id": "N6GZ1QhCpsVn",
        "outputId": "8ded299a-f7c2-4ebd-af92-6a6d3c86862c"
      },
      "execution_count": null,
      "outputs": [
        {
          "output_type": "execute_result",
          "data": {
            "text/plain": [
              "<folium.vector_layers.Circle at 0x7f52bca60ca0>"
            ]
          },
          "metadata": {},
          "execution_count": 21
        }
      ]
    },
    {
      "cell_type": "code",
      "source": [
        "folium.Circle([-22.371427, -41.786991],\n",
        "                    radius=221819.8873962387968\n",
        "                    ).add_to(mapa)"
      ],
      "metadata": {
        "colab": {
          "base_uri": "https://localhost:8080/"
        },
        "id": "yJC7jUaBpW4Z",
        "outputId": "7751a755-1d5c-43dd-d047-5c076181e8c4"
      },
      "execution_count": null,
      "outputs": [
        {
          "output_type": "execute_result",
          "data": {
            "text/plain": [
              "<folium.vector_layers.Circle at 0x7f52bca60760>"
            ]
          },
          "metadata": {},
          "execution_count": 22
        }
      ]
    },
    {
      "cell_type": "code",
      "source": [
        "plugins.SemiCircle(\n",
        "    location=[-22.371427, -41.786991],   \n",
        "    radius= 250000.00,          #Raio do círculo, em metros.    \n",
        "    direction = 250,             #Ângulo de direção em graus\n",
        "    arc = 25                   #Ângulo do arco em graus.\n",
        ").add_to(mapa)"
      ],
      "metadata": {
        "colab": {
          "base_uri": "https://localhost:8080/"
        },
        "id": "FqpANE-vsYKq",
        "outputId": "fbc281ab-c612-4bea-b892-23675c983b56"
      },
      "execution_count": null,
      "outputs": [
        {
          "output_type": "execute_result",
          "data": {
            "text/plain": [
              "<folium.plugins.semicircle.SemiCircle at 0x7f52bca60670>"
            ]
          },
          "metadata": {},
          "execution_count": 23
        }
      ]
    },
    {
      "cell_type": "code",
      "source": [
        "mapa"
      ],
      "metadata": {
        "colab": {
          "base_uri": "https://localhost:8080/",
          "height": 823
        },
        "id": "Exe2CzIE6USs",
        "outputId": "54978d7b-d506-4679-c803-c87aee8920eb"
      },
      "execution_count": null,
      "outputs": [
        {
          "output_type": "execute_result",
          "data": {
            "text/plain": [
              "<folium.folium.Map at 0x7f52d1527370>"
            ],
            "text/html": [
              "<div style=\"width:100%;\"><div style=\"position:relative;width:100%;height:0;padding-bottom:60%;\"><span style=\"color:#565656\">Make this Notebook Trusted to load map: File -> Trust Notebook</span><iframe srcdoc=\"&lt;!DOCTYPE html&gt;\n",
              "&lt;html&gt;\n",
              "&lt;head&gt;\n",
              "    \n",
              "    &lt;meta http-equiv=&quot;content-type&quot; content=&quot;text/html; charset=UTF-8&quot; /&gt;\n",
              "    \n",
              "        &lt;script&gt;\n",
              "            L_NO_TOUCH = false;\n",
              "            L_DISABLE_3D = false;\n",
              "        &lt;/script&gt;\n",
              "    \n",
              "    &lt;style&gt;html, body {width: 100%;height: 100%;margin: 0;padding: 0;}&lt;/style&gt;\n",
              "    &lt;style&gt;#map {position:absolute;top:0;bottom:0;right:0;left:0;}&lt;/style&gt;\n",
              "    &lt;script src=&quot;https://cdn.jsdelivr.net/npm/leaflet@1.6.0/dist/leaflet.js&quot;&gt;&lt;/script&gt;\n",
              "    &lt;script src=&quot;https://code.jquery.com/jquery-1.12.4.min.js&quot;&gt;&lt;/script&gt;\n",
              "    &lt;script src=&quot;https://maxcdn.bootstrapcdn.com/bootstrap/3.2.0/js/bootstrap.min.js&quot;&gt;&lt;/script&gt;\n",
              "    &lt;script src=&quot;https://cdnjs.cloudflare.com/ajax/libs/Leaflet.awesome-markers/2.0.2/leaflet.awesome-markers.js&quot;&gt;&lt;/script&gt;\n",
              "    &lt;link rel=&quot;stylesheet&quot; href=&quot;https://cdn.jsdelivr.net/npm/leaflet@1.6.0/dist/leaflet.css&quot;/&gt;\n",
              "    &lt;link rel=&quot;stylesheet&quot; href=&quot;https://maxcdn.bootstrapcdn.com/bootstrap/3.2.0/css/bootstrap.min.css&quot;/&gt;\n",
              "    &lt;link rel=&quot;stylesheet&quot; href=&quot;https://maxcdn.bootstrapcdn.com/bootstrap/3.2.0/css/bootstrap-theme.min.css&quot;/&gt;\n",
              "    &lt;link rel=&quot;stylesheet&quot; href=&quot;https://maxcdn.bootstrapcdn.com/font-awesome/4.6.3/css/font-awesome.min.css&quot;/&gt;\n",
              "    &lt;link rel=&quot;stylesheet&quot; href=&quot;https://cdnjs.cloudflare.com/ajax/libs/Leaflet.awesome-markers/2.0.2/leaflet.awesome-markers.css&quot;/&gt;\n",
              "    &lt;link rel=&quot;stylesheet&quot; href=&quot;https://cdn.jsdelivr.net/gh/python-visualization/folium/folium/templates/leaflet.awesome.rotate.min.css&quot;/&gt;\n",
              "    \n",
              "            &lt;meta name=&quot;viewport&quot; content=&quot;width=device-width,\n",
              "                initial-scale=1.0, maximum-scale=1.0, user-scalable=no&quot; /&gt;\n",
              "            &lt;style&gt;\n",
              "                #map_6f4e225593600824435dd965108b1ce2 {\n",
              "                    position: relative;\n",
              "                    width: 100.0%;\n",
              "                    height: 100.0%;\n",
              "                    left: 0.0%;\n",
              "                    top: 0.0%;\n",
              "                }\n",
              "            &lt;/style&gt;\n",
              "        \n",
              "    &lt;script src=&quot;https://cdn.jsdelivr.net/npm/leaflet-semicircle@2.0.4/Semicircle.min.js&quot;&gt;&lt;/script&gt;\n",
              "&lt;/head&gt;\n",
              "&lt;body&gt;\n",
              "    \n",
              "    \n",
              "            &lt;div class=&quot;folium-map&quot; id=&quot;map_6f4e225593600824435dd965108b1ce2&quot; &gt;&lt;/div&gt;\n",
              "        \n",
              "&lt;/body&gt;\n",
              "&lt;script&gt;\n",
              "    \n",
              "    \n",
              "            var map_6f4e225593600824435dd965108b1ce2 = L.map(\n",
              "                &quot;map_6f4e225593600824435dd965108b1ce2&quot;,\n",
              "                {\n",
              "                    center: [-22.123325, -42.710144],\n",
              "                    crs: L.CRS.EPSG3857,\n",
              "                    zoom: 8,\n",
              "                    zoomControl: true,\n",
              "                    preferCanvas: false,\n",
              "                }\n",
              "            );\n",
              "\n",
              "            \n",
              "\n",
              "        \n",
              "    \n",
              "            var tile_layer_f1950c6eb1b70631d0af4efdcfdc817d = L.tileLayer(\n",
              "                &quot;https://{s}.tile.openstreetmap.org/{z}/{x}/{y}.png&quot;,\n",
              "                {&quot;attribution&quot;: &quot;Data by \\u0026copy; \\u003ca href=\\&quot;http://openstreetmap.org\\&quot;\\u003eOpenStreetMap\\u003c/a\\u003e, under \\u003ca href=\\&quot;http://www.openstreetmap.org/copyright\\&quot;\\u003eODbL\\u003c/a\\u003e.&quot;, &quot;detectRetina&quot;: false, &quot;maxNativeZoom&quot;: 18, &quot;maxZoom&quot;: 18, &quot;minZoom&quot;: 0, &quot;noWrap&quot;: false, &quot;opacity&quot;: 1, &quot;subdomains&quot;: &quot;abc&quot;, &quot;tms&quot;: false}\n",
              "            ).addTo(map_6f4e225593600824435dd965108b1ce2);\n",
              "        \n",
              "    \n",
              "            var marker_095c6cab0146c638918768428bbfe7ce = L.marker(\n",
              "                [-23.394702, -44.918488],\n",
              "                {}\n",
              "            ).addTo(map_6f4e225593600824435dd965108b1ce2);\n",
              "        \n",
              "    \n",
              "            var icon_70a777b8804c110b432111be69c05915 = L.AwesomeMarkers.icon(\n",
              "                {&quot;extraClasses&quot;: &quot;fa-rotate-0&quot;, &quot;icon&quot;: &quot;info-sign&quot;, &quot;iconColor&quot;: &quot;white&quot;, &quot;markerColor&quot;: &quot;red&quot;, &quot;prefix&quot;: &quot;glyphicon&quot;}\n",
              "            );\n",
              "            marker_095c6cab0146c638918768428bbfe7ce.setIcon(icon_70a777b8804c110b432111be69c05915);\n",
              "        \n",
              "    \n",
              "        var popup_df3f2a8124006a206a6b82ded4fa4772 = L.popup({&quot;maxWidth&quot;: &quot;100%&quot;});\n",
              "\n",
              "        \n",
              "            var html_4821d600822f89832ee721925c319bf8 = $(`&lt;div id=&quot;html_4821d600822f89832ee721925c319bf8&quot; style=&quot;width: 100.0%; height: 100.0%;&quot;&gt;&lt;i&gt;-23.394702, -44.918488&lt;/i&gt;&lt;/div&gt;`)[0];\n",
              "            popup_df3f2a8124006a206a6b82ded4fa4772.setContent(html_4821d600822f89832ee721925c319bf8);\n",
              "        \n",
              "\n",
              "        marker_095c6cab0146c638918768428bbfe7ce.bindPopup(popup_df3f2a8124006a206a6b82ded4fa4772)\n",
              "        ;\n",
              "\n",
              "        \n",
              "    \n",
              "    \n",
              "            marker_095c6cab0146c638918768428bbfe7ce.bindTooltip(\n",
              "                `&lt;div&gt;\n",
              "                     Clique aqui\n",
              "                 &lt;/div&gt;`,\n",
              "                {&quot;sticky&quot;: true}\n",
              "            );\n",
              "        \n",
              "    \n",
              "            var marker_e7d03850b298ba299d663221e02f36bb = L.marker(\n",
              "                [-20.737624, -40.902986],\n",
              "                {}\n",
              "            ).addTo(map_6f4e225593600824435dd965108b1ce2);\n",
              "        \n",
              "    \n",
              "            var icon_ec51ad010d15d12586c19c2e3fdfae62 = L.AwesomeMarkers.icon(\n",
              "                {&quot;extraClasses&quot;: &quot;fa-rotate-0&quot;, &quot;icon&quot;: &quot;info-sign&quot;, &quot;iconColor&quot;: &quot;white&quot;, &quot;markerColor&quot;: &quot;red&quot;, &quot;prefix&quot;: &quot;glyphicon&quot;}\n",
              "            );\n",
              "            marker_e7d03850b298ba299d663221e02f36bb.setIcon(icon_ec51ad010d15d12586c19c2e3fdfae62);\n",
              "        \n",
              "    \n",
              "        var popup_a1b36d7ec2e57eae71b132df85600cbb = L.popup({&quot;maxWidth&quot;: &quot;100%&quot;});\n",
              "\n",
              "        \n",
              "            var html_a00c1126ace601fc6eee22d571af8d0a = $(`&lt;div id=&quot;html_a00c1126ace601fc6eee22d571af8d0a&quot; style=&quot;width: 100.0%; height: 100.0%;&quot;&gt;&lt;i&gt;-20.737624, -40.902986&lt;/i&gt;&lt;/div&gt;`)[0];\n",
              "            popup_a1b36d7ec2e57eae71b132df85600cbb.setContent(html_a00c1126ace601fc6eee22d571af8d0a);\n",
              "        \n",
              "\n",
              "        marker_e7d03850b298ba299d663221e02f36bb.bindPopup(popup_a1b36d7ec2e57eae71b132df85600cbb)\n",
              "        ;\n",
              "\n",
              "        \n",
              "    \n",
              "    \n",
              "            marker_e7d03850b298ba299d663221e02f36bb.bindTooltip(\n",
              "                `&lt;div&gt;\n",
              "                     Clique aqui\n",
              "                 &lt;/div&gt;`,\n",
              "                {&quot;sticky&quot;: true}\n",
              "            );\n",
              "        \n",
              "    \n",
              "            var marker_a5accca8057dac96f59a6e4a95107ca8 = L.marker(\n",
              "                [-20.758172, -44.912995],\n",
              "                {}\n",
              "            ).addTo(map_6f4e225593600824435dd965108b1ce2);\n",
              "        \n",
              "    \n",
              "            var icon_255754d345feba553cf1ed87b7b9ed70 = L.AwesomeMarkers.icon(\n",
              "                {&quot;extraClasses&quot;: &quot;fa-rotate-0&quot;, &quot;icon&quot;: &quot;info-sign&quot;, &quot;iconColor&quot;: &quot;white&quot;, &quot;markerColor&quot;: &quot;red&quot;, &quot;prefix&quot;: &quot;glyphicon&quot;}\n",
              "            );\n",
              "            marker_a5accca8057dac96f59a6e4a95107ca8.setIcon(icon_255754d345feba553cf1ed87b7b9ed70);\n",
              "        \n",
              "    \n",
              "        var popup_8d3b9a367433554db6cdcf777b62bbbe = L.popup({&quot;maxWidth&quot;: &quot;100%&quot;});\n",
              "\n",
              "        \n",
              "            var html_25a32e162dbc6c3c49a23d85fd3386f4 = $(`&lt;div id=&quot;html_25a32e162dbc6c3c49a23d85fd3386f4&quot; style=&quot;width: 100.0%; height: 100.0%;&quot;&gt;&lt;i&gt;-20.758172, -44.912995&lt;/i&gt;&lt;/div&gt;`)[0];\n",
              "            popup_8d3b9a367433554db6cdcf777b62bbbe.setContent(html_25a32e162dbc6c3c49a23d85fd3386f4);\n",
              "        \n",
              "\n",
              "        marker_a5accca8057dac96f59a6e4a95107ca8.bindPopup(popup_8d3b9a367433554db6cdcf777b62bbbe)\n",
              "        ;\n",
              "\n",
              "        \n",
              "    \n",
              "    \n",
              "            marker_a5accca8057dac96f59a6e4a95107ca8.bindTooltip(\n",
              "                `&lt;div&gt;\n",
              "                     Clique aqui\n",
              "                 &lt;/div&gt;`,\n",
              "                {&quot;sticky&quot;: true}\n",
              "            );\n",
              "        \n",
              "    \n",
              "            var marker_a5a75e477f02eb09d00cef5a89bb1094 = L.marker(\n",
              "                [-23.293832, -40.87552],\n",
              "                {}\n",
              "            ).addTo(map_6f4e225593600824435dd965108b1ce2);\n",
              "        \n",
              "    \n",
              "            var icon_5e070494a0f91b089252d5f1beb10006 = L.AwesomeMarkers.icon(\n",
              "                {&quot;extraClasses&quot;: &quot;fa-rotate-0&quot;, &quot;icon&quot;: &quot;info-sign&quot;, &quot;iconColor&quot;: &quot;white&quot;, &quot;markerColor&quot;: &quot;red&quot;, &quot;prefix&quot;: &quot;glyphicon&quot;}\n",
              "            );\n",
              "            marker_a5a75e477f02eb09d00cef5a89bb1094.setIcon(icon_5e070494a0f91b089252d5f1beb10006);\n",
              "        \n",
              "    \n",
              "        var popup_64c9a7af20281d78ba262e9168c22e62 = L.popup({&quot;maxWidth&quot;: &quot;100%&quot;});\n",
              "\n",
              "        \n",
              "            var html_eac6c508e92bb72a6b06cdb0e733a880 = $(`&lt;div id=&quot;html_eac6c508e92bb72a6b06cdb0e733a880&quot; style=&quot;width: 100.0%; height: 100.0%;&quot;&gt;&lt;i&gt;-23.293832, -40.875520&lt;/i&gt;&lt;/div&gt;`)[0];\n",
              "            popup_64c9a7af20281d78ba262e9168c22e62.setContent(html_eac6c508e92bb72a6b06cdb0e733a880);\n",
              "        \n",
              "\n",
              "        marker_a5a75e477f02eb09d00cef5a89bb1094.bindPopup(popup_64c9a7af20281d78ba262e9168c22e62)\n",
              "        ;\n",
              "\n",
              "        \n",
              "    \n",
              "    \n",
              "            marker_a5a75e477f02eb09d00cef5a89bb1094.bindTooltip(\n",
              "                `&lt;div&gt;\n",
              "                     Clique aqui\n",
              "                 &lt;/div&gt;`,\n",
              "                {&quot;sticky&quot;: true}\n",
              "            );\n",
              "        \n",
              "    \n",
              "            var marker_e9382231694848b6b0af1bece621d090 = L.marker(\n",
              "                [-22.371427, -41.786991],\n",
              "                {}\n",
              "            ).addTo(map_6f4e225593600824435dd965108b1ce2);\n",
              "        \n",
              "    \n",
              "            var icon_09491fd7bae0a02b3d9d869e769da06a = L.AwesomeMarkers.icon(\n",
              "                {&quot;extraClasses&quot;: &quot;fa-rotate-0&quot;, &quot;icon&quot;: &quot;info-sign&quot;, &quot;iconColor&quot;: &quot;white&quot;, &quot;markerColor&quot;: &quot;blue&quot;, &quot;prefix&quot;: &quot;glyphicon&quot;}\n",
              "            );\n",
              "            marker_e9382231694848b6b0af1bece621d090.setIcon(icon_09491fd7bae0a02b3d9d869e769da06a);\n",
              "        \n",
              "    \n",
              "        var popup_919e591fd845378e9a45d4190965aff9 = L.popup({&quot;maxWidth&quot;: &quot;100%&quot;});\n",
              "\n",
              "        \n",
              "            var html_71381cc44c68efb2be8f4c90f8216743 = $(`&lt;div id=&quot;html_71381cc44c68efb2be8f4c90f8216743&quot; style=&quot;width: 100.0%; height: 100.0%;&quot;&gt;&lt;i&gt;-22.371427, -41.786991&lt;/i&gt;&lt;/div&gt;`)[0];\n",
              "            popup_919e591fd845378e9a45d4190965aff9.setContent(html_71381cc44c68efb2be8f4c90f8216743);\n",
              "        \n",
              "\n",
              "        marker_e9382231694848b6b0af1bece621d090.bindPopup(popup_919e591fd845378e9a45d4190965aff9)\n",
              "        ;\n",
              "\n",
              "        \n",
              "    \n",
              "    \n",
              "            marker_e9382231694848b6b0af1bece621d090.bindTooltip(\n",
              "                `&lt;div&gt;\n",
              "                     Clique aqui\n",
              "                 &lt;/div&gt;`,\n",
              "                {&quot;sticky&quot;: true}\n",
              "            );\n",
              "        \n",
              "    \n",
              "            var marker_c9bf94d81d62274f58f454797ff79f90 = L.marker(\n",
              "                [-22.747445, -43.102014],\n",
              "                {}\n",
              "            ).addTo(map_6f4e225593600824435dd965108b1ce2);\n",
              "        \n",
              "    \n",
              "            var icon_a0968d5187d770eef6dc562361ff4a6c = L.AwesomeMarkers.icon(\n",
              "                {&quot;extraClasses&quot;: &quot;fa-rotate-0&quot;, &quot;icon&quot;: &quot;info-sign&quot;, &quot;iconColor&quot;: &quot;white&quot;, &quot;markerColor&quot;: &quot;blue&quot;, &quot;prefix&quot;: &quot;glyphicon&quot;}\n",
              "            );\n",
              "            marker_c9bf94d81d62274f58f454797ff79f90.setIcon(icon_a0968d5187d770eef6dc562361ff4a6c);\n",
              "        \n",
              "    \n",
              "        var popup_3183ce46900876cc34ff4e5dd23da30a = L.popup({&quot;maxWidth&quot;: &quot;100%&quot;});\n",
              "\n",
              "        \n",
              "            var html_42787afee8eef66dd6629a990fbbf29f = $(`&lt;div id=&quot;html_42787afee8eef66dd6629a990fbbf29f&quot; style=&quot;width: 100.0%; height: 100.0%;&quot;&gt;&lt;i&gt;-22.747445, -43.102014&lt;/i&gt;&lt;/div&gt;`)[0];\n",
              "            popup_3183ce46900876cc34ff4e5dd23da30a.setContent(html_42787afee8eef66dd6629a990fbbf29f);\n",
              "        \n",
              "\n",
              "        marker_c9bf94d81d62274f58f454797ff79f90.bindPopup(popup_3183ce46900876cc34ff4e5dd23da30a)\n",
              "        ;\n",
              "\n",
              "        \n",
              "    \n",
              "    \n",
              "            marker_c9bf94d81d62274f58f454797ff79f90.bindTooltip(\n",
              "                `&lt;div&gt;\n",
              "                     Clique aqui\n",
              "                 &lt;/div&gt;`,\n",
              "                {&quot;sticky&quot;: true}\n",
              "            );\n",
              "        \n",
              "    \n",
              "            var marker_703aba1709c30c439f9f89a3ff7b1810 = L.marker(\n",
              "                [-23.080871, -43.808421],\n",
              "                {}\n",
              "            ).addTo(map_6f4e225593600824435dd965108b1ce2);\n",
              "        \n",
              "    \n",
              "            var icon_73af9b8a76c0030432ce442c5b1e9795 = L.AwesomeMarkers.icon(\n",
              "                {&quot;extraClasses&quot;: &quot;fa-rotate-0&quot;, &quot;icon&quot;: &quot;info-sign&quot;, &quot;iconColor&quot;: &quot;white&quot;, &quot;markerColor&quot;: &quot;blue&quot;, &quot;prefix&quot;: &quot;glyphicon&quot;}\n",
              "            );\n",
              "            marker_703aba1709c30c439f9f89a3ff7b1810.setIcon(icon_73af9b8a76c0030432ce442c5b1e9795);\n",
              "        \n",
              "    \n",
              "        var popup_26f7a854e628a5f29715dd81f9d922d7 = L.popup({&quot;maxWidth&quot;: &quot;100%&quot;});\n",
              "\n",
              "        \n",
              "            var html_736f3f56eae7a59656088c05e1cf6df2 = $(`&lt;div id=&quot;html_736f3f56eae7a59656088c05e1cf6df2&quot; style=&quot;width: 100.0%; height: 100.0%;&quot;&gt;&lt;i&gt;-23.080871, -43.808421&lt;/i&gt;&lt;/div&gt;`)[0];\n",
              "            popup_26f7a854e628a5f29715dd81f9d922d7.setContent(html_736f3f56eae7a59656088c05e1cf6df2);\n",
              "        \n",
              "\n",
              "        marker_703aba1709c30c439f9f89a3ff7b1810.bindPopup(popup_26f7a854e628a5f29715dd81f9d922d7)\n",
              "        ;\n",
              "\n",
              "        \n",
              "    \n",
              "    \n",
              "            marker_703aba1709c30c439f9f89a3ff7b1810.bindTooltip(\n",
              "                `&lt;div&gt;\n",
              "                     Clique aqui\n",
              "                 &lt;/div&gt;`,\n",
              "                {&quot;sticky&quot;: true}\n",
              "            );\n",
              "        \n",
              "    \n",
              "            var circle_89512a02f326818878498d2fda7dd991 = L.circle(\n",
              "                [-22.371427, -41.786991],\n",
              "                {&quot;bubblingMouseEvents&quot;: true, &quot;color&quot;: &quot;#3388ff&quot;, &quot;dashArray&quot;: null, &quot;dashOffset&quot;: null, &quot;fill&quot;: false, &quot;fillColor&quot;: &quot;#3388ff&quot;, &quot;fillOpacity&quot;: 0.2, &quot;fillRule&quot;: &quot;evenodd&quot;, &quot;lineCap&quot;: &quot;round&quot;, &quot;lineJoin&quot;: &quot;round&quot;, &quot;opacity&quot;: 1.0, &quot;radius&quot;: 250000.0, &quot;stroke&quot;: true, &quot;weight&quot;: 3}\n",
              "            ).addTo(map_6f4e225593600824435dd965108b1ce2);\n",
              "        \n",
              "    \n",
              "            var circle_05be55d32b57da40c4b0db6f08e75146 = L.circle(\n",
              "                [-22.371427, -41.786991],\n",
              "                {&quot;bubblingMouseEvents&quot;: true, &quot;color&quot;: &quot;#3388ff&quot;, &quot;dashArray&quot;: null, &quot;dashOffset&quot;: null, &quot;fill&quot;: false, &quot;fillColor&quot;: &quot;#3388ff&quot;, &quot;fillOpacity&quot;: 0.2, &quot;fillRule&quot;: &quot;evenodd&quot;, &quot;lineCap&quot;: &quot;round&quot;, &quot;lineJoin&quot;: &quot;round&quot;, &quot;opacity&quot;: 1.0, &quot;radius&quot;: 141359.5064511545, &quot;stroke&quot;: true, &quot;weight&quot;: 3}\n",
              "            ).addTo(map_6f4e225593600824435dd965108b1ce2);\n",
              "        \n",
              "    \n",
              "            var circle_4977d249760f3edfd2127e738dc4889d = L.circle(\n",
              "                [-22.371427, -41.786991],\n",
              "                {&quot;bubblingMouseEvents&quot;: true, &quot;color&quot;: &quot;#3388ff&quot;, &quot;dashArray&quot;: null, &quot;dashOffset&quot;: null, &quot;fill&quot;: false, &quot;fillColor&quot;: &quot;#3388ff&quot;, &quot;fillOpacity&quot;: 0.2, &quot;fillRule&quot;: &quot;evenodd&quot;, &quot;lineCap&quot;: &quot;round&quot;, &quot;lineJoin&quot;: &quot;round&quot;, &quot;opacity&quot;: 1.0, &quot;radius&quot;: 221819.8873962388, &quot;stroke&quot;: true, &quot;weight&quot;: 3}\n",
              "            ).addTo(map_6f4e225593600824435dd965108b1ce2);\n",
              "        \n",
              "    \n",
              "            var semi_circle_961e10cf01279dfa84923aeae5eddd5c = L.semiCircle(\n",
              "                [-22.371427, -41.786991],\n",
              "                {&quot;bubblingMouseEvents&quot;: true, &quot;color&quot;: &quot;#3388ff&quot;, &quot;dashArray&quot;: null, &quot;dashOffset&quot;: null, &quot;fill&quot;: false, &quot;fillColor&quot;: &quot;#3388ff&quot;, &quot;fillOpacity&quot;: 0.2, &quot;fillRule&quot;: &quot;evenodd&quot;, &quot;lineCap&quot;: &quot;round&quot;, &quot;lineJoin&quot;: &quot;round&quot;, &quot;opacity&quot;: 1.0, &quot;radius&quot;: 250000.0, &quot;stroke&quot;: true, &quot;weight&quot;: 3}\n",
              "                )\n",
              "                    .setDirection(250, 25)\n",
              "                .addTo(map_6f4e225593600824435dd965108b1ce2);\n",
              "        \n",
              "&lt;/script&gt;\n",
              "&lt;/html&gt;\" style=\"position:absolute;width:100%;height:100%;left:0;top:0;border:none !important;\" allowfullscreen webkitallowfullscreen mozallowfullscreen></iframe></div></div>"
            ]
          },
          "metadata": {},
          "execution_count": 24
        }
      ]
    },
    {
      "cell_type": "code",
      "source": [
        "inicial_para_final = haversine(ponto_inicial, ponto_final) \n",
        "inicial_para_final #em km"
      ],
      "metadata": {
        "colab": {
          "base_uri": "https://localhost:8080/"
        },
        "id": "Yfl5snP3qa8z",
        "outputId": "1b5d061b-db36-41d8-9d38-39de84614628"
      },
      "execution_count": null,
      "outputs": [
        {
          "output_type": "execute_result",
          "data": {
            "text/plain": [
              "81.29673970134971"
            ]
          },
          "metadata": {},
          "execution_count": 25
        }
      ]
    },
    {
      "cell_type": "code",
      "source": [
        "def LerH5(DATA,Chave):\n",
        "    import h5py\n",
        "    import os.path as path\n",
        "    import numpy as np  \n",
        "    if path.exists(DATA):\n",
        "        with h5py.File(DATA,'r') as f:\n",
        "            real = f[Chave][...]\n",
        "\n",
        "    return(real)"
      ],
      "metadata": {
        "id": "DmugkMWfOCq9"
      },
      "execution_count": null,
      "outputs": []
    },
    {
      "cell_type": "code",
      "source": [
        "def ExtrairChaves(DATA):\n",
        "    import h5py\n",
        "    import os.path as path\n",
        "    import numpy as np  \n",
        "    if path.exists(DATA):\n",
        "        f = h5py.File(DATA, 'r')\n",
        "        return(f.keys() )\n",
        "    #return(real)"
      ],
      "metadata": {
        "id": "oyfLleTXOCq-"
      },
      "execution_count": null,
      "outputs": []
    },
    {
      "cell_type": "code",
      "source": [
        "ExtrairChaves('/content/drive/MyDrive/precipitacao_6hr;de1ate1005Com dimensoes7Por7ComFonte2019 COSMO.h5')"
      ],
      "metadata": {
        "colab": {
          "base_uri": "https://localhost:8080/"
        },
        "id": "LSkp3uz9OGtU",
        "outputId": "179dce01-32b5-48c9-d9de-1cf65496aac4"
      },
      "execution_count": null,
      "outputs": [
        {
          "output_type": "execute_result",
          "data": {
            "text/plain": [
              "<KeysViewHDF5 ['Data', 'Entropy', 'Latitude', 'Longitude', 'Time']>"
            ]
          },
          "metadata": {},
          "execution_count": 28
        }
      ]
    },
    {
      "cell_type": "code",
      "source": [
        "filename = h5py.File('/content/drive/MyDrive/precipitacao_6hr;de1ate1005Com dimensoes7Por7ComFonte2019 COSMO.h5', 'r')"
      ],
      "metadata": {
        "id": "nFm5Q0qsP7pE"
      },
      "execution_count": null,
      "outputs": []
    },
    {
      "cell_type": "code",
      "source": [
        "def printname(name): print(name)"
      ],
      "metadata": {
        "id": "_7enHsbePtK6"
      },
      "execution_count": null,
      "outputs": []
    },
    {
      "cell_type": "code",
      "source": [
        "filename.visit(printname)"
      ],
      "metadata": {
        "colab": {
          "base_uri": "https://localhost:8080/"
        },
        "id": "OlTWHjobPu1X",
        "outputId": "5a7b1dc2-30f7-45ae-c4a0-d3138c219795"
      },
      "execution_count": null,
      "outputs": [
        {
          "output_type": "stream",
          "name": "stdout",
          "text": [
            "Data\n",
            "Entropy\n",
            "Latitude\n",
            "Latitude/ELT1\n",
            "Longitude\n",
            "Longitude/ELT1\n",
            "Time\n",
            "Time/ELT1\n"
          ]
        }
      ]
    },
    {
      "cell_type": "code",
      "source": [
        "precipitacao = LerH5('/content/drive/MyDrive/precipitacao_6hr;de1ate1005Com dimensoes7Por7ComFonte2019 COSMO.h5', 'Data')\n",
        "tempo = LerH5('/content/drive/MyDrive/precipitacao_6hr;de1ate1005Com dimensoes7Por7ComFonte2019 COSMO.h5', 'Time/ELT1')\n",
        "latitude = LerH5('/content/drive/MyDrive/precipitacao_6hr;de1ate1005Com dimensoes7Por7ComFonte2019 COSMO.h5', 'Latitude/ELT1')\n",
        "longitude = LerH5('/content/drive/MyDrive/precipitacao_6hr;de1ate1005Com dimensoes7Por7ComFonte2019 COSMO.h5', 'Longitude/ELT1')"
      ],
      "metadata": {
        "id": "yTIsrAaZOMiF"
      },
      "execution_count": null,
      "outputs": []
    },
    {
      "cell_type": "code",
      "source": [
        "d = {'latitude': latitude, 'longitude': longitude}\n",
        "df = pd.DataFrame(data=d)\n",
        "df"
      ],
      "metadata": {
        "colab": {
          "base_uri": "https://localhost:8080/",
          "height": 269
        },
        "id": "9kUQQR3ww6Ft",
        "outputId": "4a1f02f8-7f25-4f81-ab56-a2e7f7a5d058"
      },
      "execution_count": null,
      "outputs": [
        {
          "output_type": "execute_result",
          "data": {
            "text/plain": [
              "               latitude             longitude\n",
              "0  b'-23.1339033365138'  b'-43.8906028271505'\n",
              "1  b'-23.0647349667651'  b'-43.7697438637654'\n",
              "2  b'-22.9955665970164'  b'-43.6488849003802'\n",
              "3  b'-22.9263982272677'  b'-43.5280259369951'\n",
              "4   b'-22.857229857519'  b'-43.4071669736099'\n",
              "5  b'-22.7880614877703'  b'-43.2863080102248'\n",
              "6  b'-22.7188931180216'  b'-43.1654490468397'"
            ],
            "text/html": [
              "\n",
              "  <div id=\"df-3316d1cb-c05e-4933-991f-ef396537c568\">\n",
              "    <div class=\"colab-df-container\">\n",
              "      <div>\n",
              "<style scoped>\n",
              "    .dataframe tbody tr th:only-of-type {\n",
              "        vertical-align: middle;\n",
              "    }\n",
              "\n",
              "    .dataframe tbody tr th {\n",
              "        vertical-align: top;\n",
              "    }\n",
              "\n",
              "    .dataframe thead th {\n",
              "        text-align: right;\n",
              "    }\n",
              "</style>\n",
              "<table border=\"1\" class=\"dataframe\">\n",
              "  <thead>\n",
              "    <tr style=\"text-align: right;\">\n",
              "      <th></th>\n",
              "      <th>latitude</th>\n",
              "      <th>longitude</th>\n",
              "    </tr>\n",
              "  </thead>\n",
              "  <tbody>\n",
              "    <tr>\n",
              "      <th>0</th>\n",
              "      <td>b'-23.1339033365138'</td>\n",
              "      <td>b'-43.8906028271505'</td>\n",
              "    </tr>\n",
              "    <tr>\n",
              "      <th>1</th>\n",
              "      <td>b'-23.0647349667651'</td>\n",
              "      <td>b'-43.7697438637654'</td>\n",
              "    </tr>\n",
              "    <tr>\n",
              "      <th>2</th>\n",
              "      <td>b'-22.9955665970164'</td>\n",
              "      <td>b'-43.6488849003802'</td>\n",
              "    </tr>\n",
              "    <tr>\n",
              "      <th>3</th>\n",
              "      <td>b'-22.9263982272677'</td>\n",
              "      <td>b'-43.5280259369951'</td>\n",
              "    </tr>\n",
              "    <tr>\n",
              "      <th>4</th>\n",
              "      <td>b'-22.857229857519'</td>\n",
              "      <td>b'-43.4071669736099'</td>\n",
              "    </tr>\n",
              "    <tr>\n",
              "      <th>5</th>\n",
              "      <td>b'-22.7880614877703'</td>\n",
              "      <td>b'-43.2863080102248'</td>\n",
              "    </tr>\n",
              "    <tr>\n",
              "      <th>6</th>\n",
              "      <td>b'-22.7188931180216'</td>\n",
              "      <td>b'-43.1654490468397'</td>\n",
              "    </tr>\n",
              "  </tbody>\n",
              "</table>\n",
              "</div>\n",
              "      <button class=\"colab-df-convert\" onclick=\"convertToInteractive('df-3316d1cb-c05e-4933-991f-ef396537c568')\"\n",
              "              title=\"Convert this dataframe to an interactive table.\"\n",
              "              style=\"display:none;\">\n",
              "        \n",
              "  <svg xmlns=\"http://www.w3.org/2000/svg\" height=\"24px\"viewBox=\"0 0 24 24\"\n",
              "       width=\"24px\">\n",
              "    <path d=\"M0 0h24v24H0V0z\" fill=\"none\"/>\n",
              "    <path d=\"M18.56 5.44l.94 2.06.94-2.06 2.06-.94-2.06-.94-.94-2.06-.94 2.06-2.06.94zm-11 1L8.5 8.5l.94-2.06 2.06-.94-2.06-.94L8.5 2.5l-.94 2.06-2.06.94zm10 10l.94 2.06.94-2.06 2.06-.94-2.06-.94-.94-2.06-.94 2.06-2.06.94z\"/><path d=\"M17.41 7.96l-1.37-1.37c-.4-.4-.92-.59-1.43-.59-.52 0-1.04.2-1.43.59L10.3 9.45l-7.72 7.72c-.78.78-.78 2.05 0 2.83L4 21.41c.39.39.9.59 1.41.59.51 0 1.02-.2 1.41-.59l7.78-7.78 2.81-2.81c.8-.78.8-2.07 0-2.86zM5.41 20L4 18.59l7.72-7.72 1.47 1.35L5.41 20z\"/>\n",
              "  </svg>\n",
              "      </button>\n",
              "      \n",
              "  <style>\n",
              "    .colab-df-container {\n",
              "      display:flex;\n",
              "      flex-wrap:wrap;\n",
              "      gap: 12px;\n",
              "    }\n",
              "\n",
              "    .colab-df-convert {\n",
              "      background-color: #E8F0FE;\n",
              "      border: none;\n",
              "      border-radius: 50%;\n",
              "      cursor: pointer;\n",
              "      display: none;\n",
              "      fill: #1967D2;\n",
              "      height: 32px;\n",
              "      padding: 0 0 0 0;\n",
              "      width: 32px;\n",
              "    }\n",
              "\n",
              "    .colab-df-convert:hover {\n",
              "      background-color: #E2EBFA;\n",
              "      box-shadow: 0px 1px 2px rgba(60, 64, 67, 0.3), 0px 1px 3px 1px rgba(60, 64, 67, 0.15);\n",
              "      fill: #174EA6;\n",
              "    }\n",
              "\n",
              "    [theme=dark] .colab-df-convert {\n",
              "      background-color: #3B4455;\n",
              "      fill: #D2E3FC;\n",
              "    }\n",
              "\n",
              "    [theme=dark] .colab-df-convert:hover {\n",
              "      background-color: #434B5C;\n",
              "      box-shadow: 0px 1px 3px 1px rgba(0, 0, 0, 0.15);\n",
              "      filter: drop-shadow(0px 1px 2px rgba(0, 0, 0, 0.3));\n",
              "      fill: #FFFFFF;\n",
              "    }\n",
              "  </style>\n",
              "\n",
              "      <script>\n",
              "        const buttonEl =\n",
              "          document.querySelector('#df-3316d1cb-c05e-4933-991f-ef396537c568 button.colab-df-convert');\n",
              "        buttonEl.style.display =\n",
              "          google.colab.kernel.accessAllowed ? 'block' : 'none';\n",
              "\n",
              "        async function convertToInteractive(key) {\n",
              "          const element = document.querySelector('#df-3316d1cb-c05e-4933-991f-ef396537c568');\n",
              "          const dataTable =\n",
              "            await google.colab.kernel.invokeFunction('convertToInteractive',\n",
              "                                                     [key], {});\n",
              "          if (!dataTable) return;\n",
              "\n",
              "          const docLinkHtml = 'Like what you see? Visit the ' +\n",
              "            '<a target=\"_blank\" href=https://colab.research.google.com/notebooks/data_table.ipynb>data table notebook</a>'\n",
              "            + ' to learn more about interactive tables.';\n",
              "          element.innerHTML = '';\n",
              "          dataTable['output_type'] = 'display_data';\n",
              "          await google.colab.output.renderOutput(dataTable, element);\n",
              "          const docLink = document.createElement('div');\n",
              "          docLink.innerHTML = docLinkHtml;\n",
              "          element.appendChild(docLink);\n",
              "        }\n",
              "      </script>\n",
              "    </div>\n",
              "  </div>\n",
              "  "
            ]
          },
          "metadata": {},
          "execution_count": 33
        }
      ]
    },
    {
      "cell_type": "code",
      "source": [
        "precipitacao.shape"
      ],
      "metadata": {
        "colab": {
          "base_uri": "https://localhost:8080/"
        },
        "id": "TJSPGavUOmys",
        "outputId": "3420e102-3196-4394-d2f4-09b100efb6ad"
      },
      "execution_count": null,
      "outputs": [
        {
          "output_type": "execute_result",
          "data": {
            "text/plain": [
              "(8827, 7, 7)"
            ]
          },
          "metadata": {},
          "execution_count": 34
        }
      ]
    },
    {
      "cell_type": "code",
      "source": [
        "aux = pd.DataFrame(tempo)\n",
        "aux[0] = aux[0].astype('str')\n",
        "aux[0].str.contains('191224')"
      ],
      "metadata": {
        "colab": {
          "base_uri": "https://localhost:8080/"
        },
        "id": "0_CxLpkSQq4h",
        "outputId": "f9d5ce49-b024-4557-827c-0ce60b561651"
      },
      "execution_count": null,
      "outputs": [
        {
          "output_type": "execute_result",
          "data": {
            "text/plain": [
              "0       False\n",
              "1       False\n",
              "2       False\n",
              "3       False\n",
              "4       False\n",
              "        ...  \n",
              "8822    False\n",
              "8823    False\n",
              "8824    False\n",
              "8825    False\n",
              "8826    False\n",
              "Name: 0, Length: 8827, dtype: bool"
            ]
          },
          "metadata": {},
          "execution_count": 35
        }
      ]
    },
    {
      "cell_type": "code",
      "source": [
        "indices = aux[aux[0].str.contains('191224')].index"
      ],
      "metadata": {
        "id": "odkYwITTRmw_"
      },
      "execution_count": null,
      "outputs": []
    },
    {
      "cell_type": "code",
      "source": [
        "tempo[indices]"
      ],
      "metadata": {
        "colab": {
          "base_uri": "https://localhost:8080/"
        },
        "id": "J8r14TvxpJ5E",
        "outputId": "e279b609-7d85-476a-9932-6cb12121955b"
      },
      "execution_count": null,
      "outputs": [
        {
          "output_type": "execute_result",
          "data": {
            "text/plain": [
              "array([b'1912240000', b'1912240100', b'1912240200', b'1912240300',\n",
              "       b'1912240400', b'1912240500', b'1912240600', b'1912240700',\n",
              "       b'1912240800', b'1912240900', b'1912241000', b'1912241100',\n",
              "       b'1912241200', b'1912241300', b'1912241400', b'1912241500',\n",
              "       b'1912241600', b'1912241700', b'1912241800', b'1912241900',\n",
              "       b'1912242000', b'1912242100', b'1912242200', b'1912242300'],\n",
              "      dtype='|S11')"
            ]
          },
          "metadata": {},
          "execution_count": 37
        }
      ]
    },
    {
      "cell_type": "code",
      "source": [
        "type(tempo)"
      ],
      "metadata": {
        "colab": {
          "base_uri": "https://localhost:8080/"
        },
        "id": "l5V_sMRQTUg0",
        "outputId": "aa6bb6fd-e27d-4955-b5f1-c39d3e2e9355"
      },
      "execution_count": null,
      "outputs": [
        {
          "output_type": "execute_result",
          "data": {
            "text/plain": [
              "numpy.ndarray"
            ]
          },
          "metadata": {},
          "execution_count": 38
        }
      ]
    },
    {
      "cell_type": "code",
      "source": [
        "time = pd.DataFrame(tempo)[0].astype(\"str\").str.replace(\"b\", \"\").str.replace(\"'\", \"\").astype(\"int\")"
      ],
      "metadata": {
        "id": "dDZl8HChTppu"
      },
      "execution_count": null,
      "outputs": []
    },
    {
      "cell_type": "code",
      "source": [
        "time = np.array(time)\n",
        "time"
      ],
      "metadata": {
        "colab": {
          "base_uri": "https://localhost:8080/"
        },
        "id": "aKPqvPUqqjg0",
        "outputId": "c1eda698-2186-42ee-f661-94b529dc4554"
      },
      "execution_count": null,
      "outputs": [
        {
          "output_type": "execute_result",
          "data": {
            "text/plain": [
              "array([1812310600, 1812310700, 1812310800, ..., 2001022200, 2001022300,\n",
              "       2001030000])"
            ]
          },
          "metadata": {},
          "execution_count": 40
        }
      ]
    },
    {
      "cell_type": "code",
      "source": [
        "array = {'dataHora': time}\n",
        "dset = pd.DataFrame(data=array)"
      ],
      "metadata": {
        "id": "8nvF75tEugi6"
      },
      "execution_count": null,
      "outputs": []
    },
    {
      "cell_type": "code",
      "source": [
        "dset"
      ],
      "metadata": {
        "colab": {
          "base_uri": "https://localhost:8080/",
          "height": 423
        },
        "id": "Vpy9HNnGuzmd",
        "outputId": "c278d601-01cc-44ce-8746-9ac531defde0"
      },
      "execution_count": null,
      "outputs": [
        {
          "output_type": "execute_result",
          "data": {
            "text/plain": [
              "        dataHora\n",
              "0     1812310600\n",
              "1     1812310700\n",
              "2     1812310800\n",
              "3     1812310900\n",
              "4     1812311000\n",
              "...          ...\n",
              "8822  2001022000\n",
              "8823  2001022100\n",
              "8824  2001022200\n",
              "8825  2001022300\n",
              "8826  2001030000\n",
              "\n",
              "[8827 rows x 1 columns]"
            ],
            "text/html": [
              "\n",
              "  <div id=\"df-6a4b33a5-668f-4f1f-bcbb-06f680d215c4\">\n",
              "    <div class=\"colab-df-container\">\n",
              "      <div>\n",
              "<style scoped>\n",
              "    .dataframe tbody tr th:only-of-type {\n",
              "        vertical-align: middle;\n",
              "    }\n",
              "\n",
              "    .dataframe tbody tr th {\n",
              "        vertical-align: top;\n",
              "    }\n",
              "\n",
              "    .dataframe thead th {\n",
              "        text-align: right;\n",
              "    }\n",
              "</style>\n",
              "<table border=\"1\" class=\"dataframe\">\n",
              "  <thead>\n",
              "    <tr style=\"text-align: right;\">\n",
              "      <th></th>\n",
              "      <th>dataHora</th>\n",
              "    </tr>\n",
              "  </thead>\n",
              "  <tbody>\n",
              "    <tr>\n",
              "      <th>0</th>\n",
              "      <td>1812310600</td>\n",
              "    </tr>\n",
              "    <tr>\n",
              "      <th>1</th>\n",
              "      <td>1812310700</td>\n",
              "    </tr>\n",
              "    <tr>\n",
              "      <th>2</th>\n",
              "      <td>1812310800</td>\n",
              "    </tr>\n",
              "    <tr>\n",
              "      <th>3</th>\n",
              "      <td>1812310900</td>\n",
              "    </tr>\n",
              "    <tr>\n",
              "      <th>4</th>\n",
              "      <td>1812311000</td>\n",
              "    </tr>\n",
              "    <tr>\n",
              "      <th>...</th>\n",
              "      <td>...</td>\n",
              "    </tr>\n",
              "    <tr>\n",
              "      <th>8822</th>\n",
              "      <td>2001022000</td>\n",
              "    </tr>\n",
              "    <tr>\n",
              "      <th>8823</th>\n",
              "      <td>2001022100</td>\n",
              "    </tr>\n",
              "    <tr>\n",
              "      <th>8824</th>\n",
              "      <td>2001022200</td>\n",
              "    </tr>\n",
              "    <tr>\n",
              "      <th>8825</th>\n",
              "      <td>2001022300</td>\n",
              "    </tr>\n",
              "    <tr>\n",
              "      <th>8826</th>\n",
              "      <td>2001030000</td>\n",
              "    </tr>\n",
              "  </tbody>\n",
              "</table>\n",
              "<p>8827 rows × 1 columns</p>\n",
              "</div>\n",
              "      <button class=\"colab-df-convert\" onclick=\"convertToInteractive('df-6a4b33a5-668f-4f1f-bcbb-06f680d215c4')\"\n",
              "              title=\"Convert this dataframe to an interactive table.\"\n",
              "              style=\"display:none;\">\n",
              "        \n",
              "  <svg xmlns=\"http://www.w3.org/2000/svg\" height=\"24px\"viewBox=\"0 0 24 24\"\n",
              "       width=\"24px\">\n",
              "    <path d=\"M0 0h24v24H0V0z\" fill=\"none\"/>\n",
              "    <path d=\"M18.56 5.44l.94 2.06.94-2.06 2.06-.94-2.06-.94-.94-2.06-.94 2.06-2.06.94zm-11 1L8.5 8.5l.94-2.06 2.06-.94-2.06-.94L8.5 2.5l-.94 2.06-2.06.94zm10 10l.94 2.06.94-2.06 2.06-.94-2.06-.94-.94-2.06-.94 2.06-2.06.94z\"/><path d=\"M17.41 7.96l-1.37-1.37c-.4-.4-.92-.59-1.43-.59-.52 0-1.04.2-1.43.59L10.3 9.45l-7.72 7.72c-.78.78-.78 2.05 0 2.83L4 21.41c.39.39.9.59 1.41.59.51 0 1.02-.2 1.41-.59l7.78-7.78 2.81-2.81c.8-.78.8-2.07 0-2.86zM5.41 20L4 18.59l7.72-7.72 1.47 1.35L5.41 20z\"/>\n",
              "  </svg>\n",
              "      </button>\n",
              "      \n",
              "  <style>\n",
              "    .colab-df-container {\n",
              "      display:flex;\n",
              "      flex-wrap:wrap;\n",
              "      gap: 12px;\n",
              "    }\n",
              "\n",
              "    .colab-df-convert {\n",
              "      background-color: #E8F0FE;\n",
              "      border: none;\n",
              "      border-radius: 50%;\n",
              "      cursor: pointer;\n",
              "      display: none;\n",
              "      fill: #1967D2;\n",
              "      height: 32px;\n",
              "      padding: 0 0 0 0;\n",
              "      width: 32px;\n",
              "    }\n",
              "\n",
              "    .colab-df-convert:hover {\n",
              "      background-color: #E2EBFA;\n",
              "      box-shadow: 0px 1px 2px rgba(60, 64, 67, 0.3), 0px 1px 3px 1px rgba(60, 64, 67, 0.15);\n",
              "      fill: #174EA6;\n",
              "    }\n",
              "\n",
              "    [theme=dark] .colab-df-convert {\n",
              "      background-color: #3B4455;\n",
              "      fill: #D2E3FC;\n",
              "    }\n",
              "\n",
              "    [theme=dark] .colab-df-convert:hover {\n",
              "      background-color: #434B5C;\n",
              "      box-shadow: 0px 1px 3px 1px rgba(0, 0, 0, 0.15);\n",
              "      filter: drop-shadow(0px 1px 2px rgba(0, 0, 0, 0.3));\n",
              "      fill: #FFFFFF;\n",
              "    }\n",
              "  </style>\n",
              "\n",
              "      <script>\n",
              "        const buttonEl =\n",
              "          document.querySelector('#df-6a4b33a5-668f-4f1f-bcbb-06f680d215c4 button.colab-df-convert');\n",
              "        buttonEl.style.display =\n",
              "          google.colab.kernel.accessAllowed ? 'block' : 'none';\n",
              "\n",
              "        async function convertToInteractive(key) {\n",
              "          const element = document.querySelector('#df-6a4b33a5-668f-4f1f-bcbb-06f680d215c4');\n",
              "          const dataTable =\n",
              "            await google.colab.kernel.invokeFunction('convertToInteractive',\n",
              "                                                     [key], {});\n",
              "          if (!dataTable) return;\n",
              "\n",
              "          const docLinkHtml = 'Like what you see? Visit the ' +\n",
              "            '<a target=\"_blank\" href=https://colab.research.google.com/notebooks/data_table.ipynb>data table notebook</a>'\n",
              "            + ' to learn more about interactive tables.';\n",
              "          element.innerHTML = '';\n",
              "          dataTable['output_type'] = 'display_data';\n",
              "          await google.colab.output.renderOutput(dataTable, element);\n",
              "          const docLink = document.createElement('div');\n",
              "          docLink.innerHTML = docLinkHtml;\n",
              "          element.appendChild(docLink);\n",
              "        }\n",
              "      </script>\n",
              "    </div>\n",
              "  </div>\n",
              "  "
            ]
          },
          "metadata": {},
          "execution_count": 42
        }
      ]
    },
    {
      "cell_type": "code",
      "source": [
        "precipitacao = precipitacao[indices]"
      ],
      "metadata": {
        "id": "EY9r-FUxSAGT"
      },
      "execution_count": null,
      "outputs": []
    },
    {
      "cell_type": "code",
      "source": [
        "precipitacao.shape"
      ],
      "metadata": {
        "colab": {
          "base_uri": "https://localhost:8080/"
        },
        "id": "nvXHy8WpSdZd",
        "outputId": "c30fad51-3f34-48a9-d0fd-6f51e902ba74"
      },
      "execution_count": null,
      "outputs": [
        {
          "output_type": "execute_result",
          "data": {
            "text/plain": [
              "(24, 7, 7)"
            ]
          },
          "metadata": {},
          "execution_count": 44
        }
      ]
    },
    {
      "cell_type": "code",
      "source": [
        "np.mean(precipitacao, axis=1).shape"
      ],
      "metadata": {
        "colab": {
          "base_uri": "https://localhost:8080/"
        },
        "id": "ngLj1GaiSJ0V",
        "outputId": "e4d1c50d-103b-40f1-924e-85fa0498bd36"
      },
      "execution_count": null,
      "outputs": [
        {
          "output_type": "execute_result",
          "data": {
            "text/plain": [
              "(24, 7)"
            ]
          },
          "metadata": {},
          "execution_count": 45
        }
      ]
    },
    {
      "cell_type": "code",
      "source": [
        "precipitacao = np.mean(np.mean(precipitacao, axis=1), axis=1)"
      ],
      "metadata": {
        "id": "vR8CTW8QSvBd"
      },
      "execution_count": null,
      "outputs": []
    },
    {
      "cell_type": "code",
      "source": [
        "precipitacao.shape"
      ],
      "metadata": {
        "colab": {
          "base_uri": "https://localhost:8080/"
        },
        "id": "_57uWTv3cOiW",
        "outputId": "66d6ab1a-4b29-402e-be73-e134097a9514"
      },
      "execution_count": null,
      "outputs": [
        {
          "output_type": "execute_result",
          "data": {
            "text/plain": [
              "(24,)"
            ]
          },
          "metadata": {},
          "execution_count": 47
        }
      ]
    },
    {
      "cell_type": "code",
      "source": [
        "Dado = np.load('/content/drive/MyDrive/radarNovo.npy')"
      ],
      "metadata": {
        "id": "jA6_3MDdrqkv"
      },
      "execution_count": null,
      "outputs": []
    },
    {
      "cell_type": "code",
      "source": [
        "Dado = np.moveaxis(Dado, 0, 3)\n",
        "Dado = np.moveaxis(Dado, 2, 0)"
      ],
      "metadata": {
        "id": "LCI0t856BMu3"
      },
      "execution_count": null,
      "outputs": []
    },
    {
      "cell_type": "code",
      "source": [
        "Dado.shape"
      ],
      "metadata": {
        "colab": {
          "base_uri": "https://localhost:8080/"
        },
        "id": "dx7e0wZTBdpP",
        "outputId": "9420e728-fa32-4ef7-ed80-61242e3cf5b5"
      },
      "execution_count": null,
      "outputs": [
        {
          "output_type": "execute_result",
          "data": {
            "text/plain": [
              "(24, 360, 500, 10)"
            ]
          },
          "metadata": {},
          "execution_count": 50
        }
      ]
    },
    {
      "cell_type": "code",
      "source": [
        "Dado = Dado[:,225:275,(141*2):(222*2),:]"
      ],
      "metadata": {
        "id": "agIgh49_ZKhz"
      },
      "execution_count": null,
      "outputs": []
    },
    {
      "cell_type": "code",
      "source": [
        "Dado.shape"
      ],
      "metadata": {
        "colab": {
          "base_uri": "https://localhost:8080/"
        },
        "id": "P6Dc3W__ZnHI",
        "outputId": "7edd4ccb-d685-471e-dba2-c14c730dd9b2"
      },
      "execution_count": null,
      "outputs": [
        {
          "output_type": "execute_result",
          "data": {
            "text/plain": [
              "(24, 50, 162, 10)"
            ]
          },
          "metadata": {},
          "execution_count": 52
        }
      ]
    },
    {
      "cell_type": "code",
      "source": [
        "indice_treino = int(Dado.shape[0]*0.8)"
      ],
      "metadata": {
        "id": "8uzMdukQ-t80"
      },
      "execution_count": null,
      "outputs": []
    },
    {
      "cell_type": "code",
      "source": [
        "indice_validacao = int((Dado.shape[0]-indice_treino)*0.7)+indice_treino"
      ],
      "metadata": {
        "id": "ATGxR3Ug_CPn"
      },
      "execution_count": null,
      "outputs": []
    },
    {
      "cell_type": "code",
      "source": [
        "indice_treino"
      ],
      "metadata": {
        "colab": {
          "base_uri": "https://localhost:8080/"
        },
        "id": "9KPZLUFM_PS2",
        "outputId": "52b349ed-2408-4715-a9ef-e7c35dc43d89"
      },
      "execution_count": null,
      "outputs": [
        {
          "output_type": "execute_result",
          "data": {
            "text/plain": [
              "19"
            ]
          },
          "metadata": {},
          "execution_count": 55
        }
      ]
    },
    {
      "cell_type": "code",
      "source": [
        "Dado.shape"
      ],
      "metadata": {
        "colab": {
          "base_uri": "https://localhost:8080/"
        },
        "id": "8JYsSgV2r2Nn",
        "outputId": "93c3e2c6-1e2b-450f-e2af-40db8a034dca"
      },
      "execution_count": null,
      "outputs": [
        {
          "output_type": "execute_result",
          "data": {
            "text/plain": [
              "(24, 50, 162, 10)"
            ]
          },
          "metadata": {},
          "execution_count": 56
        }
      ]
    },
    {
      "cell_type": "code",
      "source": [
        "indice_validacao"
      ],
      "metadata": {
        "colab": {
          "base_uri": "https://localhost:8080/"
        },
        "id": "exnJbqhs_fHM",
        "outputId": "b00b07a9-86dd-4f2f-f200-92e93ec1c663"
      },
      "execution_count": null,
      "outputs": [
        {
          "output_type": "execute_result",
          "data": {
            "text/plain": [
              "22"
            ]
          },
          "metadata": {},
          "execution_count": 57
        }
      ]
    },
    {
      "cell_type": "code",
      "source": [
        "hdf = h5py.File('dataRadar1Dimensao.h5', 'w')\n",
        "hdf.create_dataset('Treino', data = Dado[:indice_treino,:,:,:]) #do inicio até o indice_treino (com intervalo aberto, ele n entra)\n",
        "hdf.create_dataset('Validacao', data = Dado[indice_treino:indice_validacao,:,:,:]) #indice_treino até indice_validacao (com intervalo aberto do indice_validacao)\n",
        "hdf.create_dataset('Teste', data = Dado[indice_validacao:,:,:,:]) #do indice_validacao até o final \n",
        "\n",
        "hdf.close()"
      ],
      "metadata": {
        "id": "WSwwLplxr4FW"
      },
      "execution_count": null,
      "outputs": []
    },
    {
      "cell_type": "code",
      "source": [
        "def LerH5(DATA,Chave):\n",
        "    import h5py\n",
        "    import os.path as path\n",
        "    import numpy as np  \n",
        "    if path.exists(DATA):\n",
        "        with h5py.File(DATA,'r') as f:\n",
        "            real = f[Chave][...]\n",
        "\n",
        "    return(real)"
      ],
      "metadata": {
        "id": "kVX0Si7Fr-J8"
      },
      "execution_count": null,
      "outputs": []
    },
    {
      "cell_type": "code",
      "source": [
        "def ExtrairChaves(DATA):\n",
        "    import h5py\n",
        "    import os.path as path\n",
        "    import numpy as np  \n",
        "    if path.exists(DATA):\n",
        "        f = h5py.File(DATA, 'r')\n",
        "        return(f.keys() )\n",
        "    #return(real)"
      ],
      "metadata": {
        "id": "_qTRAwomsAnK"
      },
      "execution_count": null,
      "outputs": []
    },
    {
      "cell_type": "code",
      "source": [
        "ExtrairChaves('dataRadar1Dimensao.h5')"
      ],
      "metadata": {
        "id": "n7oxAgq8sCnu",
        "colab": {
          "base_uri": "https://localhost:8080/"
        },
        "outputId": "8aa4b9b7-27b2-455b-f666-3a0a7e80a651"
      },
      "execution_count": null,
      "outputs": [
        {
          "output_type": "execute_result",
          "data": {
            "text/plain": [
              "<KeysViewHDF5 ['Teste', 'Treino', 'Validacao']>"
            ]
          },
          "metadata": {},
          "execution_count": 61
        }
      ]
    },
    {
      "cell_type": "code",
      "source": [
        "Treino=LerH5('dataRadar1Dimensao.h5','/Treino')\n",
        "Validacao=LerH5('dataRadar1Dimensao.h5','/Validacao')\n",
        "Teste=LerH5('dataRadar1Dimensao.h5','/Teste')"
      ],
      "metadata": {
        "id": "TPpI4UGdsKen"
      },
      "execution_count": null,
      "outputs": []
    },
    {
      "cell_type": "code",
      "source": [
        "Treino.shape"
      ],
      "metadata": {
        "id": "Wt0YS_JEAV4W",
        "colab": {
          "base_uri": "https://localhost:8080/"
        },
        "outputId": "d14fc160-a859-4917-e6ef-b7f01bf01d93"
      },
      "execution_count": null,
      "outputs": [
        {
          "output_type": "execute_result",
          "data": {
            "text/plain": [
              "(19, 50, 162, 10)"
            ]
          },
          "metadata": {},
          "execution_count": 63
        }
      ]
    },
    {
      "cell_type": "code",
      "source": [
        "Validacao.shape"
      ],
      "metadata": {
        "id": "JoxzEppwAYeK",
        "colab": {
          "base_uri": "https://localhost:8080/"
        },
        "outputId": "39a65398-8226-42db-b261-944d183a8d2c"
      },
      "execution_count": null,
      "outputs": [
        {
          "output_type": "execute_result",
          "data": {
            "text/plain": [
              "(3, 50, 162, 10)"
            ]
          },
          "metadata": {},
          "execution_count": 64
        }
      ]
    },
    {
      "cell_type": "code",
      "source": [
        "Teste.shape"
      ],
      "metadata": {
        "id": "AHfiyvCZAazE",
        "colab": {
          "base_uri": "https://localhost:8080/"
        },
        "outputId": "8efb3325-0623-4f26-c2eb-fe8ba233d468"
      },
      "execution_count": null,
      "outputs": [
        {
          "output_type": "execute_result",
          "data": {
            "text/plain": [
              "(2, 50, 162, 10)"
            ]
          },
          "metadata": {},
          "execution_count": 65
        }
      ]
    },
    {
      "cell_type": "code",
      "source": [
        "Treino = Treino[:,:,:,0]"
      ],
      "metadata": {
        "id": "tUu2wY26EYcT"
      },
      "execution_count": null,
      "outputs": []
    },
    {
      "cell_type": "code",
      "source": [
        "Validacao = Validacao[:,:,:,0]"
      ],
      "metadata": {
        "id": "csP-lbXEEeF6"
      },
      "execution_count": null,
      "outputs": []
    },
    {
      "cell_type": "code",
      "source": [
        "Teste = Teste[:,:,:,0]"
      ],
      "metadata": {
        "id": "_pVaC_zSEeRu"
      },
      "execution_count": null,
      "outputs": []
    },
    {
      "cell_type": "code",
      "source": [
        "Treino.shape"
      ],
      "metadata": {
        "colab": {
          "base_uri": "https://localhost:8080/"
        },
        "id": "kA40fzbAaP0P",
        "outputId": "72bd2282-e77b-4c70-f733-5669de3a82a7"
      },
      "execution_count": null,
      "outputs": [
        {
          "output_type": "execute_result",
          "data": {
            "text/plain": [
              "(19, 50, 162)"
            ]
          },
          "metadata": {},
          "execution_count": 69
        }
      ]
    },
    {
      "cell_type": "code",
      "source": [
        "Validacao.shape"
      ],
      "metadata": {
        "colab": {
          "base_uri": "https://localhost:8080/"
        },
        "id": "Hl2-XY-gad5A",
        "outputId": "a5e930f3-d18a-4b49-bb2a-3303789dd61c"
      },
      "execution_count": null,
      "outputs": [
        {
          "output_type": "execute_result",
          "data": {
            "text/plain": [
              "(3, 50, 162)"
            ]
          },
          "metadata": {},
          "execution_count": 70
        }
      ]
    },
    {
      "cell_type": "code",
      "source": [
        "Teste.shape"
      ],
      "metadata": {
        "colab": {
          "base_uri": "https://localhost:8080/"
        },
        "id": "E8kU4-QBajRD",
        "outputId": "9d7a7795-6a62-402a-9bfa-51a2f5a83250"
      },
      "execution_count": null,
      "outputs": [
        {
          "output_type": "execute_result",
          "data": {
            "text/plain": [
              "(2, 50, 162)"
            ]
          },
          "metadata": {},
          "execution_count": 71
        }
      ]
    },
    {
      "cell_type": "code",
      "source": [
        "Treino.shape = (Treino.shape[0], 50, 162, 1)"
      ],
      "metadata": {
        "id": "0xoUiwJ9ExCU"
      },
      "execution_count": null,
      "outputs": []
    },
    {
      "cell_type": "code",
      "source": [
        "Validacao.shape = (Validacao.shape[0], 50, 162, 1)"
      ],
      "metadata": {
        "id": "Q7nBYs9FE7NH"
      },
      "execution_count": null,
      "outputs": []
    },
    {
      "cell_type": "code",
      "source": [
        "Teste.shape = (Teste.shape[0], 50, 162, 1)"
      ],
      "metadata": {
        "id": "xkT82ylyFAxB"
      },
      "execution_count": null,
      "outputs": []
    },
    {
      "cell_type": "code",
      "source": [
        "temp_pattern = 2 #quantas medidas passadas serão usadas para prever as medidas para frente\n",
        "batch_size = 30 #corresponde ao valor de amostras que serão processadas em conjunto durante o processo de optimização\n",
        "NumeroDeModelos = 1 #atributos utilizados"
      ],
      "metadata": {
        "id": "Up0Hkwjju3RC"
      },
      "execution_count": null,
      "outputs": []
    },
    {
      "cell_type": "code",
      "source": [
        "#A seguir temos o gerador que ira refazer o mapeamento do tensor de 3 dimensoes em 5\n",
        "#Com isto podemos passar os dados para o modelo ser treinado sem significante custo de memoria\n",
        "#Este recebe como parametros o tensor de treinamento, \n",
        "                        #o numero de medidas temporais\n",
        "                        #O numero de amostras a serem geradas em um batch\n",
        "def myGeneratorT(data, y, temp_pattern, batch_size=1):\n",
        "    print(data.shape)\n",
        "    while 1 :\n",
        "        for i in range(int(data.shape[0]/batch_size)-temp_pattern-batch_size):\n",
        "          j = i*batch_size\n",
        "          for b in range(batch_size):\n",
        "            train_X = np.zeros((1,temp_pattern,data.shape[1],data.shape[2],1),dtype=float)\n",
        "            train_Y = y\n",
        "            train_X[0,:,:,:,:] = data[(j+b):(j+b)+temp_pattern,:,:]\n",
        "            if b == 0:\n",
        "              X = train_X\n",
        "              Y = train_Y\n",
        "            else:\n",
        "              X = np.concatenate((X,train_X), axis=0)\n",
        "              Y = np.concatenate((Y, train_Y), axis=0)\n",
        "          yield X, Y #retorna em demanda vai salvando o estado (gerador permite isso)"
      ],
      "metadata": {
        "id": "mzgUBCavbY42"
      },
      "execution_count": null,
      "outputs": []
    },
    {
      "cell_type": "code",
      "source": [
        "precipitacao_treino = precipitacao[0:Treino.shape[0]]"
      ],
      "metadata": {
        "id": "mJGdzsmkcTHq"
      },
      "execution_count": null,
      "outputs": []
    },
    {
      "cell_type": "code",
      "source": [
        "precipitacao_validacao = precipitacao[Treino.shape[0]:(Treino.shape[0]+Validacao.shape[0])]"
      ],
      "metadata": {
        "id": "kqLO3AMLcjtA"
      },
      "execution_count": null,
      "outputs": []
    },
    {
      "cell_type": "code",
      "source": [
        "precipitacao_teste = precipitacao[(Treino.shape[0]+Validacao.shape[0]):]"
      ],
      "metadata": {
        "id": "DcDBPWHRczmT"
      },
      "execution_count": null,
      "outputs": []
    },
    {
      "cell_type": "code",
      "source": [
        "a = np.zeros(shape=(Treino.shape[0]-temp_pattern,temp_pattern,Treino.shape[1], Treino.shape[2], Treino.shape[3]))"
      ],
      "metadata": {
        "id": "9fgDQ2uwgBc3"
      },
      "execution_count": null,
      "outputs": []
    },
    {
      "cell_type": "code",
      "source": [
        "b = np.zeros(shape=(Validacao.shape[0]-temp_pattern,temp_pattern,Validacao.shape[1], Validacao.shape[2], Validacao.shape[3]))"
      ],
      "metadata": {
        "id": "0TjsHxjhXMbz"
      },
      "execution_count": null,
      "outputs": []
    },
    {
      "cell_type": "code",
      "source": [
        "c = np.zeros(shape=(Teste.shape[0]-temp_pattern,temp_pattern,Teste.shape[1], Teste.shape[2], Teste.shape[3]))"
      ],
      "metadata": {
        "id": "CikHocCxXSGh"
      },
      "execution_count": null,
      "outputs": []
    },
    {
      "cell_type": "code",
      "source": [
        "for j in range(0,(Treino.shape[0]-temp_pattern)):\n",
        "  a[j,:,:,:,:] = Treino[(j):(j)+temp_pattern,:,:]"
      ],
      "metadata": {
        "id": "dPdy7h5bgmRH"
      },
      "execution_count": null,
      "outputs": []
    },
    {
      "cell_type": "code",
      "source": [
        "a.shape"
      ],
      "metadata": {
        "colab": {
          "base_uri": "https://localhost:8080/"
        },
        "id": "9nsazzS1hhvi",
        "outputId": "b9db9e31-5bb1-46ee-9690-774d49872d42"
      },
      "execution_count": null,
      "outputs": [
        {
          "output_type": "execute_result",
          "data": {
            "text/plain": [
              "(17, 2, 50, 162, 1)"
            ]
          },
          "metadata": {},
          "execution_count": 86
        }
      ]
    },
    {
      "cell_type": "code",
      "source": [
        "from keras.layers.serialization import activation\n",
        "#Modelo\n",
        "from keras.models import Sequential\n",
        "from keras.layers import ConvLSTM2D,BatchNormalization,MaxPooling2D,Flatten,Dense\n",
        "\n",
        "model = Sequential([\n",
        "ConvLSTM2D(filters=32, kernel_size=(3, 3), input_shape=(temp_pattern, 50, 162, NumeroDeModelos), return_sequences=True, use_bias=True),#padding='same' -> mesma estrutura de entrada e saida, não perde dimensão no espaço\n",
        "ConvLSTM2D(filters=32, kernel_size=(3, 3), return_sequences=True, use_bias=True, recurrent_dropout=0, strides=(2,2)), \n",
        "\n",
        "ConvLSTM2D(filters=64, kernel_size=(3, 3), return_sequences=True, use_bias=True, recurrent_dropout=0),\n",
        "ConvLSTM2D(filters=64, kernel_size=(3, 3), return_sequences=True, use_bias=True, recurrent_dropout=0, strides=(2,2)), Flatten(), Dense(1,activation=\"relu\")\n",
        "])\n",
        "\n",
        "\n",
        "model.compile(loss='mse', optimizer='adam', metrics=['mse'])"
      ],
      "metadata": {
        "id": "Lsj-6wJRwItz"
      },
      "execution_count": null,
      "outputs": []
    },
    {
      "cell_type": "code",
      "source": [
        "model.fit(a,precipitacao_treino[temp_pattern:], epochs=30)"
      ],
      "metadata": {
        "colab": {
          "base_uri": "https://localhost:8080/"
        },
        "id": "jzxVTSinhmjy",
        "outputId": "5bfd29c3-073b-4e32-f66e-2cf381c3dd68"
      },
      "execution_count": null,
      "outputs": [
        {
          "output_type": "stream",
          "name": "stdout",
          "text": [
            "Epoch 1/30\n",
            "1/1 [==============================] - 60s 60s/step - loss: 21.0004 - mse: 21.0004\n",
            "Epoch 2/30\n",
            "1/1 [==============================] - 5s 5s/step - loss: 20.8440 - mse: 20.8440\n",
            "Epoch 3/30\n",
            "1/1 [==============================] - 5s 5s/step - loss: 20.3101 - mse: 20.3101\n",
            "Epoch 4/30\n",
            "1/1 [==============================] - 5s 5s/step - loss: 18.9635 - mse: 18.9635\n",
            "Epoch 5/30\n",
            "1/1 [==============================] - 5s 5s/step - loss: 15.9824 - mse: 15.9824\n",
            "Epoch 6/30\n",
            "1/1 [==============================] - 5s 5s/step - loss: 10.7715 - mse: 10.7715\n",
            "Epoch 7/30\n",
            "1/1 [==============================] - 5s 5s/step - loss: 7.0453 - mse: 7.0453\n",
            "Epoch 8/30\n",
            "1/1 [==============================] - 5s 5s/step - loss: 13.7810 - mse: 13.7810\n",
            "Epoch 9/30\n",
            "1/1 [==============================] - 5s 5s/step - loss: 7.4351 - mse: 7.4351\n",
            "Epoch 10/30\n",
            "1/1 [==============================] - 5s 5s/step - loss: 6.3084 - mse: 6.3084\n",
            "Epoch 11/30\n",
            "1/1 [==============================] - 5s 5s/step - loss: 7.5612 - mse: 7.5612\n",
            "Epoch 12/30\n",
            "1/1 [==============================] - 5s 5s/step - loss: 8.4906 - mse: 8.4906\n",
            "Epoch 13/30\n",
            "1/1 [==============================] - 5s 5s/step - loss: 8.6168 - mse: 8.6168\n",
            "Epoch 14/30\n",
            "1/1 [==============================] - 5s 5s/step - loss: 8.0097 - mse: 8.0097\n",
            "Epoch 15/30\n",
            "1/1 [==============================] - 5s 5s/step - loss: 6.8492 - mse: 6.8492\n",
            "Epoch 16/30\n",
            "1/1 [==============================] - 5s 5s/step - loss: 5.4707 - mse: 5.4707\n",
            "Epoch 17/30\n",
            "1/1 [==============================] - 5s 5s/step - loss: 4.5026 - mse: 4.5026\n",
            "Epoch 18/30\n",
            "1/1 [==============================] - 5s 5s/step - loss: 4.6560 - mse: 4.6560\n",
            "Epoch 19/30\n",
            "1/1 [==============================] - 5s 5s/step - loss: 5.4687 - mse: 5.4687\n",
            "Epoch 20/30\n",
            "1/1 [==============================] - 5s 5s/step - loss: 5.2221 - mse: 5.2221\n",
            "Epoch 21/30\n",
            "1/1 [==============================] - 4s 4s/step - loss: 4.0370 - mse: 4.0370\n",
            "Epoch 22/30\n",
            "1/1 [==============================] - 5s 5s/step - loss: 3.2131 - mse: 3.2131\n",
            "Epoch 23/30\n",
            "1/1 [==============================] - 5s 5s/step - loss: 3.0813 - mse: 3.0813\n",
            "Epoch 24/30\n",
            "1/1 [==============================] - 5s 5s/step - loss: 3.2179 - mse: 3.2179\n",
            "Epoch 25/30\n",
            "1/1 [==============================] - 5s 5s/step - loss: 3.2085 - mse: 3.2085\n",
            "Epoch 26/30\n",
            "1/1 [==============================] - 5s 5s/step - loss: 2.8809 - mse: 2.8809\n",
            "Epoch 27/30\n",
            "1/1 [==============================] - 5s 5s/step - loss: 2.2871 - mse: 2.2871\n",
            "Epoch 28/30\n",
            "1/1 [==============================] - 5s 5s/step - loss: 1.6664 - mse: 1.6664\n",
            "Epoch 29/30\n",
            "1/1 [==============================] - 5s 5s/step - loss: 1.3510 - mse: 1.3510\n",
            "Epoch 30/30\n",
            "1/1 [==============================] - 5s 5s/step - loss: 1.4626 - mse: 1.4626\n"
          ]
        },
        {
          "output_type": "execute_result",
          "data": {
            "text/plain": [
              "<keras.callbacks.History at 0x7f525b2b71c0>"
            ]
          },
          "metadata": {},
          "execution_count": 110
        }
      ]
    },
    {
      "cell_type": "code",
      "source": [
        "model.evaluate(a,precipitacao_treino[temp_pattern:])"
      ],
      "metadata": {
        "colab": {
          "base_uri": "https://localhost:8080/"
        },
        "id": "fplbV8Dul2yU",
        "outputId": "4ae232d5-67cc-4f99-8ba3-15015907d6f1"
      },
      "execution_count": null,
      "outputs": [
        {
          "output_type": "stream",
          "name": "stdout",
          "text": [
            "1/1 [==============================] - 2s 2s/step - loss: 1.6162 - mse: 1.6162\n"
          ]
        },
        {
          "output_type": "execute_result",
          "data": {
            "text/plain": [
              "[1.6162241697311401, 1.6162241697311401]"
            ]
          },
          "metadata": {},
          "execution_count": 111
        }
      ]
    },
    {
      "cell_type": "code",
      "source": [
        "model.evaluate(b,precipitacao_validacao[temp_pattern:])"
      ],
      "metadata": {
        "colab": {
          "base_uri": "https://localhost:8080/"
        },
        "id": "ABmEzLnkXuPs",
        "outputId": "07832cb7-cb2c-4df7-e93f-f233bbcab9dc"
      },
      "execution_count": null,
      "outputs": [
        {
          "output_type": "stream",
          "name": "stdout",
          "text": [
            "1/1 [==============================] - 0s 98ms/step - loss: 38.8630 - mse: 38.8630\n"
          ]
        },
        {
          "output_type": "execute_result",
          "data": {
            "text/plain": [
              "[38.863033294677734, 38.863033294677734]"
            ]
          },
          "metadata": {},
          "execution_count": 112
        }
      ]
    },
    {
      "cell_type": "code",
      "source": [
        "predicao = model.predict(a)"
      ],
      "metadata": {
        "colab": {
          "base_uri": "https://localhost:8080/"
        },
        "id": "ltp2rhbRif03",
        "outputId": "2756d184-afd0-4401-c7a1-df7801dba895"
      },
      "execution_count": null,
      "outputs": [
        {
          "output_type": "stream",
          "name": "stdout",
          "text": [
            "1/1 [==============================] - 2s 2s/step\n"
          ]
        }
      ]
    },
    {
      "cell_type": "code",
      "source": [
        "import matplotlib.pyplot as plt\n",
        "\n",
        "plt.plot(predicao)\n",
        "plt.plot(precipitacao_treino[temp_pattern:])\n",
        "plt.plot(precipitacao_validacao[temp_pattern:])\n",
        "plt.plot(precipitacao_teste[temp_pattern:])"
      ],
      "metadata": {
        "colab": {
          "base_uri": "https://localhost:8080/",
          "height": 283
        },
        "id": "DdXoq1rKiqdi",
        "outputId": "d7c2ee54-aa4a-489a-88ab-8820ae897801"
      },
      "execution_count": null,
      "outputs": [
        {
          "output_type": "execute_result",
          "data": {
            "text/plain": [
              "[<matplotlib.lines.Line2D at 0x7f5264e95f70>]"
            ]
          },
          "metadata": {},
          "execution_count": 114
        },
        {
          "output_type": "display_data",
          "data": {
            "text/plain": [
              "<Figure size 432x288 with 1 Axes>"
            ],
            "image/png": "[encoded data removed]"
          },
          "metadata": {
            "needs_background": "light"
          }
        }
      ]
    }
  ]
}